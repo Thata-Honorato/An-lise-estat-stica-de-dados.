{
 "cells": [
  {
   "cell_type": "markdown",
   "metadata": {},
   "source": [
    "<div>\n",
    "Olá, Thata!\n",
    "\n",
    "Meu nome é Luiz. Fico feliz em revisar seu projeto. Ao longo do texto farei algumas observações sobre melhorias no código e também farei comentários sobre suas percepções sobre o assunto. Estarei aberto a feedbacks e discussões sobre o tema.\n",
    "\n",
    "**Peço que mantenha e não altere os comentários que eu fizer por aqui para que possamos nos localizar posteriormente, ok?**\n",
    "\n",
    "Mais uma coisa, vamos utilizar um código de cores para você entender o meu feedback no seu notebook. Funciona assim:\n",
    "\n",
    "<div class=\"alert alert-block alert-success\">\n",
    "<b> Comentário do revisor: </b> <a class=\"tocSkip\"></a>\n",
    "\n",
    "Sucesso. Tudo foi feito corretamente.\n",
    "</div>\n",
    "\n",
    "<div class=\"alert alert-block alert-warning\">\n",
    "<b>Comentário do revisor: </b> <a class=\"tocSkip\"></a>\n",
    "\n",
    "Alerta não crítico, mas que pode ser corrigido para melhoria geral no seu código/análise.\n",
    "</div>\n",
    "\n",
    "<div class=\"alert alert-block alert-danger\">\n",
    "\n",
    "<b>Comentário do revisor: </b> <a class=\"tocSkip\"></a>\n",
    "    \n",
    "Erro que precisa ser arrumado, caso contrário seu projeto **não** será aceito.\n",
    "</div>\n",
    "\n",
    "Você pode interagir comigo através dessa célula:\n",
    "<div class=\"alert alert-block alert-info\">\n",
    "<b>Resposta do Aluno.</b> <a class=\"tocSkip\"></a>\n",
    "</div>"
   ]
  },
  {
   "cell_type": "markdown",
   "metadata": {},
   "source": [
    "<div class=\"alert alert-block alert-danger\">\n",
    "<b> Comentário do revisor v2 </b> <a class=\"tocSkip\"></a>\n",
    "<s>\n",
    "    \n",
    "Obrigado por enviar o seu projeto e pelo esforço para executar as etapas necessárias.   \n",
    "<br>\n",
    "    \n",
    "Essa versão do seu trabalho está muito melhor, parabéns. Entretanto, deixei alguns comentários em pontos que precisamos de pequenos ajustes para avançarmos. Peço que trabalhe nos comentários em vermelho que não foram riscados para seguirmos.\n",
    "    \n",
    "<br>\n",
    "    \n",
    "Se tiver alguma dúvida, pode contar comigo.\n",
    "    \n",
    "<br>   \n",
    "\n",
    "**Até breve!**\n",
    "</s>\n",
    "</div>"
   ]
  },
  {
   "cell_type": "markdown",
   "metadata": {
    "id": "eAkbw7Ueuj8X"
   },
   "source": [
    "# Qual é o melhor plano?\n",
    "\n",
    "Você trabalha como analista para a empresa de telecomunicações Megaline. A empresa oferece aos clientes dois planos pré-pagos: Surf e Ultimate. O departamento comercial quer saber qual dos planos gera mais receita para ajustar o orçamento de publicidade.\n",
    "\n",
    "Você vai realizar uma análise preliminar dos planos com base em uma pequena seleção de clientes. Você terá dados de 500 clientes da Megaline: que clientes são, de onde eles são, qual plano usam e o número de chamadas e mensagens realizadas em 2018. Seu trabalho é analisar o comportamento dos clientes e determinar qual plano pré-pago gera mais receita."
   ]
  },
  {
   "cell_type": "markdown",
   "metadata": {
    "id": "Z_iOKMX_uj8a"
   },
   "source": [
    "[Fornecemos alguns comentários para guiar sua linha de raciocínio enquanto você trabalha neste projeto. Entretanto, certifique-se de remover todos os comentários entre colchetes antes de enviar o projeto.]\n",
    "\n",
    "[Antes de começar a análise dos dados, explique com suas próprias palavras o propósito do projeto e as ações que planeja realizar.]\n",
    "\n",
    "[Tenha em mente que estudar, modificar e analisar dados é um processo iterativo. É normal retornar a etapas anteriores e corrigir/expandir algo para permitir as próximas etapas.]"
   ]
  },
  {
   "cell_type": "markdown",
   "metadata": {
    "id": "lnomf-3Xuj8b"
   },
   "source": [
    "## Inicialização"
   ]
  },
  {
   "cell_type": "code",
   "execution_count": 1,
   "metadata": {
    "id": "JdJusn5ouj8c"
   },
   "outputs": [],
   "source": [
    "import pandas as pd \n",
    "\n",
    "\n",
    "# Carregando todas as bibliotecas"
   ]
  },
  {
   "cell_type": "markdown",
   "metadata": {
    "id": "rzqsCrgquj8d"
   },
   "source": [
    "## Carregue os dados"
   ]
  },
  {
   "cell_type": "code",
   "execution_count": 2,
   "metadata": {
    "id": "HmzmQRXIuj8e"
   },
   "outputs": [],
   "source": [
    "calls=pd.read_csv(\"/datasets/megaline_calls.csv\")\n",
    "internet=pd.read_csv(\"/datasets/megaline_internet.csv\")\n",
    "messages=pd.read_csv(\"/datasets/megaline_messages.csv\")\n",
    "plans=pd.read_csv(\"/datasets/megaline_plans.csv\")\n",
    "users=pd.read_csv(\"/datasets/megaline_users.csv\")\n",
    "\n",
    "\n",
    "# Carregue os arquivos de dados em diferentes DataFrames"
   ]
  },
  {
   "cell_type": "markdown",
   "metadata": {},
   "source": [
    "<div class=\"alert alert-block alert-success\">\n",
    "<b> Comentário do revisor: </b> <a class=\"tocSkip\"></a>\n",
    "    \n",
    "- Os conjuntos de dados foram carregados corretamente\n",
    "- O import das bibliotecas foi feito de forma correta e em uma célula separada.\n",
    "</div>"
   ]
  },
  {
   "cell_type": "markdown",
   "metadata": {
    "id": "XQh-EeiIuj8e"
   },
   "source": [
    "## Prepare os dados"
   ]
  },
  {
   "cell_type": "markdown",
   "metadata": {
    "id": "RmibJmmzuj8e"
   },
   "source": [
    "[Os dados deste projeto estão divididos em várias tabelas. Explore cada uma para obter uma compreensão inicial dos dados. Faça correções em cada tabela, se necessário.]"
   ]
  },
  {
   "cell_type": "markdown",
   "metadata": {
    "id": "TlZUw_Cyuj8f"
   },
   "source": [
    "## Planos"
   ]
  },
  {
   "cell_type": "code",
   "execution_count": 3,
   "metadata": {
    "id": "x9qB5mAOuj8f"
   },
   "outputs": [
    {
     "name": "stdout",
     "output_type": "stream",
     "text": [
      "         id  user_id   call_date  duration\n",
      "0   1000_93     1000  2018-12-27      8.52\n",
      "1  1000_145     1000  2018-12-27     13.66\n",
      "2  1000_247     1000  2018-12-27     14.48\n",
      "3  1000_309     1000  2018-12-28      5.76\n",
      "4  1000_380     1000  2018-12-30      4.22\n",
      "         id  user_id session_date  mb_used\n",
      "0   1000_13     1000   2018-12-29    89.86\n",
      "1  1000_204     1000   2018-12-31     0.00\n",
      "2  1000_379     1000   2018-12-28   660.40\n",
      "3  1000_413     1000   2018-12-26   270.99\n",
      "4  1000_442     1000   2018-12-27   880.22\n",
      "         id  user_id message_date\n",
      "0  1000_125     1000   2018-12-27\n",
      "1  1000_160     1000   2018-12-31\n",
      "2  1000_223     1000   2018-12-31\n",
      "3  1000_251     1000   2018-12-27\n",
      "4  1000_255     1000   2018-12-26\n",
      "   messages_included  mb_per_month_included  minutes_included  \\\n",
      "0                 50                  15360               500   \n",
      "1               1000                  30720              3000   \n",
      "\n",
      "   usd_monthly_pay  usd_per_gb  usd_per_message  usd_per_minute plan_name  \n",
      "0               20          10             0.03            0.03      surf  \n",
      "1               70           7             0.01            0.01  ultimate  \n",
      "   user_id first_name  last_name  age                                   city  \\\n",
      "0     1000   Anamaria      Bauer   45  Atlanta-Sandy Springs-Roswell, GA MSA   \n",
      "1     1001     Mickey  Wilkerson   28        Seattle-Tacoma-Bellevue, WA MSA   \n",
      "2     1002     Carlee    Hoffman   36   Las Vegas-Henderson-Paradise, NV MSA   \n",
      "3     1003   Reynaldo    Jenkins   52                          Tulsa, OK MSA   \n",
      "4     1004    Leonila   Thompson   40        Seattle-Tacoma-Bellevue, WA MSA   \n",
      "\n",
      "     reg_date      plan churn_date  \n",
      "0  2018-12-24  ultimate        NaN  \n",
      "1  2018-08-13      surf        NaN  \n",
      "2  2018-10-21      surf        NaN  \n",
      "3  2018-01-28      surf        NaN  \n",
      "4  2018-05-23      surf        NaN  \n"
     ]
    }
   ],
   "source": [
    "print(calls.head())\n",
    "print(internet.head())\n",
    "print(messages.head())\n",
    "print(plans.head())\n",
    "print(users.head())\n",
    "\n",
    "\n",
    "\n",
    "\n",
    "# Imprima informações gerais/resumo sobre o DataFrame dos planos"
   ]
  },
  {
   "cell_type": "code",
   "execution_count": 4,
   "metadata": {
    "id": "9MRo7tyVuj8f"
   },
   "outputs": [
    {
     "name": "stdout",
     "output_type": "stream",
     "text": [
      "<class 'pandas.core.frame.DataFrame'>\n",
      "RangeIndex: 137735 entries, 0 to 137734\n",
      "Data columns (total 4 columns):\n",
      " #   Column     Non-Null Count   Dtype  \n",
      "---  ------     --------------   -----  \n",
      " 0   id         137735 non-null  object \n",
      " 1   user_id    137735 non-null  int64  \n",
      " 2   call_date  137735 non-null  object \n",
      " 3   duration   137735 non-null  float64\n",
      "dtypes: float64(1), int64(1), object(2)\n",
      "memory usage: 4.2+ MB\n",
      "None\n",
      "<class 'pandas.core.frame.DataFrame'>\n",
      "RangeIndex: 104825 entries, 0 to 104824\n",
      "Data columns (total 4 columns):\n",
      " #   Column        Non-Null Count   Dtype  \n",
      "---  ------        --------------   -----  \n",
      " 0   id            104825 non-null  object \n",
      " 1   user_id       104825 non-null  int64  \n",
      " 2   session_date  104825 non-null  object \n",
      " 3   mb_used       104825 non-null  float64\n",
      "dtypes: float64(1), int64(1), object(2)\n",
      "memory usage: 3.2+ MB\n",
      "None\n",
      "<class 'pandas.core.frame.DataFrame'>\n",
      "RangeIndex: 76051 entries, 0 to 76050\n",
      "Data columns (total 3 columns):\n",
      " #   Column        Non-Null Count  Dtype \n",
      "---  ------        --------------  ----- \n",
      " 0   id            76051 non-null  object\n",
      " 1   user_id       76051 non-null  int64 \n",
      " 2   message_date  76051 non-null  object\n",
      "dtypes: int64(1), object(2)\n",
      "memory usage: 1.7+ MB\n",
      "None\n",
      "<class 'pandas.core.frame.DataFrame'>\n",
      "RangeIndex: 2 entries, 0 to 1\n",
      "Data columns (total 8 columns):\n",
      " #   Column                 Non-Null Count  Dtype  \n",
      "---  ------                 --------------  -----  \n",
      " 0   messages_included      2 non-null      int64  \n",
      " 1   mb_per_month_included  2 non-null      int64  \n",
      " 2   minutes_included       2 non-null      int64  \n",
      " 3   usd_monthly_pay        2 non-null      int64  \n",
      " 4   usd_per_gb             2 non-null      int64  \n",
      " 5   usd_per_message        2 non-null      float64\n",
      " 6   usd_per_minute         2 non-null      float64\n",
      " 7   plan_name              2 non-null      object \n",
      "dtypes: float64(2), int64(5), object(1)\n",
      "memory usage: 256.0+ bytes\n",
      "None\n",
      "<class 'pandas.core.frame.DataFrame'>\n",
      "RangeIndex: 500 entries, 0 to 499\n",
      "Data columns (total 8 columns):\n",
      " #   Column      Non-Null Count  Dtype \n",
      "---  ------      --------------  ----- \n",
      " 0   user_id     500 non-null    int64 \n",
      " 1   first_name  500 non-null    object\n",
      " 2   last_name   500 non-null    object\n",
      " 3   age         500 non-null    int64 \n",
      " 4   city        500 non-null    object\n",
      " 5   reg_date    500 non-null    object\n",
      " 6   plan        500 non-null    object\n",
      " 7   churn_date  34 non-null     object\n",
      "dtypes: int64(2), object(6)\n",
      "memory usage: 31.4+ KB\n",
      "None\n"
     ]
    }
   ],
   "source": [
    "print(calls.info())\n",
    "print(internet.info())\n",
    "print(messages.info())\n",
    "print(plans.info())\n",
    "print(users.info())\n",
    "\n",
    "\n",
    "# Imprima uma amostra de dados dos planos"
   ]
  },
  {
   "cell_type": "markdown",
   "metadata": {
    "id": "P8hzr-lquj8f"
   },
   "source": [
    "A coluna (call_date),(session_date),(message_date),(reg_date) e (churn_date) estão como object. E serão convertidas para (datetime) para melhor aproveitamento.\n",
    "\n",
    "A coluna (duration),(mb_used), possui valores float, o que está adequado. Ainda assim, valores 0.0 \n",
    "podem indicar chamadas não atendidas e devem ser tratados ou filtrados conforme necessário.\n",
    "\n",
    "\n",
    "[Descreva o que você nota sobre as informações gerais e sobre a amostra de dados impressa acima. Existem problemas (tipos de dados inadequados, dados ausentes, etc.) que precisam de mais investigação e alterações? Como isso pode ser corrigido?]"
   ]
  },
  {
   "cell_type": "markdown",
   "metadata": {
    "id": "KXtaxmKsuj8f"
   },
   "source": [
    "## Corrija os dados"
   ]
  },
  {
   "cell_type": "markdown",
   "metadata": {
    "id": "9BWuM80Buj8f"
   },
   "source": [
    "[Corrija problemas óbvios com os dados conforme as observações iniciais.]"
   ]
  },
  {
   "cell_type": "code",
   "execution_count": 5,
   "metadata": {
    "id": "Hen8bhG1uj8g"
   },
   "outputs": [],
   "source": [
    "# Converter datas para datetime\n",
    "calls['call_date'] = pd.to_datetime(calls['call_date'])\n",
    "messages['message_date'] = pd.to_datetime(messages['message_date'])\n",
    "internet['session_date'] = pd.to_datetime(internet['session_date'])\n",
    "users['churn_date'] = pd.to_datetime(users['churn_date'])\n",
    "\n",
    "\n",
    "\n"
   ]
  },
  {
   "cell_type": "markdown",
   "metadata": {
    "id": "kLcdKu6Duj8g"
   },
   "source": [
    "## Enriqueça os dados"
   ]
  },
  {
   "cell_type": "markdown",
   "metadata": {
    "id": "x1L6F_gmuj8g"
   },
   "source": [
    "[Inclua fatores adicionais aos dados se você acredita que eles podem ser úteis.]"
   ]
  },
  {
   "cell_type": "code",
   "execution_count": 6,
   "metadata": {
    "id": "6j4XA9_ruj8g"
   },
   "outputs": [
    {
     "name": "stdout",
     "output_type": "stream",
     "text": [
      "id           0\n",
      "user_id      0\n",
      "call_date    0\n",
      "duration     0\n",
      "month        0\n",
      "dtype: int64\n",
      "id              0\n",
      "user_id         0\n",
      "session_date    0\n",
      "mb_used         0\n",
      "month           0\n",
      "dtype: int64\n",
      "id              0\n",
      "user_id         0\n",
      "message_date    0\n",
      "month           0\n",
      "dtype: int64\n",
      "messages_included        0\n",
      "mb_per_month_included    0\n",
      "minutes_included         0\n",
      "usd_monthly_pay          0\n",
      "usd_per_gb               0\n",
      "usd_per_message          0\n",
      "usd_per_minute           0\n",
      "plan_name                0\n",
      "dtype: int64\n",
      "user_id         0\n",
      "first_name      0\n",
      "last_name       0\n",
      "age             0\n",
      "city            0\n",
      "reg_date        0\n",
      "plan            0\n",
      "churn_date    466\n",
      "dtype: int64\n"
     ]
    }
   ],
   "source": [
    "#Calcular o mês em cada dataset de uso (chamadas, mensagens, internet)\n",
    "calls['month'] = calls['call_date'].dt.to_period('M')\n",
    "messages['month'] = messages['message_date'].dt.to_period('M')\n",
    "internet['month'] = internet['session_date'].dt.to_period('M')\n",
    "\n",
    "# Verificar se há valores ausentes\n",
    "print(calls.isna().sum())\n",
    "print(internet.isna().sum())\n",
    "print(messages.isna().sum())\n",
    "print(plans.isna().sum())\n",
    "print(users.isna().sum())\n",
    "\n",
    "#juntando planos com usuários"
   ]
  },
  {
   "cell_type": "markdown",
   "metadata": {},
   "source": [
    "<div class=\"alert alert-block alert-success\">\n",
    "<b> Comentário do revisor: </b> <a class=\"tocSkip\"></a>\n",
    "    \n",
    "- Os métodos `info()` e `head()` foram utilizados para estudo inicial do conjunto de dados\n",
    "- Os dados foram convertidos para os tipos corretos\n",
    "- Os atributos foram enriquecidos\n",
    "</div>"
   ]
  },
  {
   "cell_type": "markdown",
   "metadata": {
    "id": "YJg2O9qjuj8g"
   },
   "source": [
    "## Usuários"
   ]
  },
  {
   "cell_type": "code",
   "execution_count": 7,
   "metadata": {
    "id": "7JzxwD2juj8g"
   },
   "outputs": [
    {
     "name": "stdout",
     "output_type": "stream",
     "text": [
      "<class 'pandas.core.frame.DataFrame'>\n",
      "RangeIndex: 500 entries, 0 to 499\n",
      "Data columns (total 8 columns):\n",
      " #   Column      Non-Null Count  Dtype         \n",
      "---  ------      --------------  -----         \n",
      " 0   user_id     500 non-null    int64         \n",
      " 1   first_name  500 non-null    object        \n",
      " 2   last_name   500 non-null    object        \n",
      " 3   age         500 non-null    int64         \n",
      " 4   city        500 non-null    object        \n",
      " 5   reg_date    500 non-null    object        \n",
      " 6   plan        500 non-null    object        \n",
      " 7   churn_date  34 non-null     datetime64[ns]\n",
      "dtypes: datetime64[ns](1), int64(2), object(5)\n",
      "memory usage: 31.4+ KB\n",
      "None\n"
     ]
    }
   ],
   "source": [
    "print(users.info())\n",
    "# Imprima informações gerais/resumo sobre o DataFrame dos usuários\n",
    "\n"
   ]
  },
  {
   "cell_type": "code",
   "execution_count": 8,
   "metadata": {
    "id": "5KZ8XmD8uj8g"
   },
   "outputs": [
    {
     "name": "stdout",
     "output_type": "stream",
     "text": [
      "   user_id first_name  last_name  age                                    city  \\\n",
      "0     1000   Anamaria      Bauer   45   Atlanta-Sandy Springs-Roswell, GA MSA   \n",
      "1     1001     Mickey  Wilkerson   28         Seattle-Tacoma-Bellevue, WA MSA   \n",
      "2     1002     Carlee    Hoffman   36    Las Vegas-Henderson-Paradise, NV MSA   \n",
      "3     1003   Reynaldo    Jenkins   52                           Tulsa, OK MSA   \n",
      "4     1004    Leonila   Thompson   40         Seattle-Tacoma-Bellevue, WA MSA   \n",
      "5     1005      Livia    Shields   31     Dallas-Fort Worth-Arlington, TX MSA   \n",
      "6     1006     Jesusa   Bradford   73  San Francisco-Oakland-Berkeley, CA MSA   \n",
      "7     1007    Eusebio      Welch   42           Grand Rapids-Kentwood, MI MSA   \n",
      "8     1008      Emely    Hoffman   53       Orlando-Kissimmee-Sanford, FL MSA   \n",
      "9     1009      Gerry     Little   19  San Jose-Sunnyvale-Santa Clara, CA MSA   \n",
      "\n",
      "     reg_date      plan churn_date  \n",
      "0  2018-12-24  ultimate        NaT  \n",
      "1  2018-08-13      surf        NaT  \n",
      "2  2018-10-21      surf        NaT  \n",
      "3  2018-01-28      surf        NaT  \n",
      "4  2018-05-23      surf        NaT  \n",
      "5  2018-11-29      surf        NaT  \n",
      "6  2018-11-27  ultimate 2018-12-18  \n",
      "7  2018-07-11      surf        NaT  \n",
      "8  2018-08-03  ultimate        NaT  \n",
      "9  2018-04-22      surf        NaT  \n"
     ]
    }
   ],
   "source": [
    "print(users.head(10))\n",
    "# Imprima uma amostra de dados dos usuários\n",
    "\n"
   ]
  },
  {
   "cell_type": "markdown",
   "metadata": {
    "id": "XGCgkfLvuj8h"
   },
   "source": [
    "A coluna (churn_date) contém apenas 34 valores não nulos em 500 registros. Isso indica que a maioria dos usuários ainda são clientes ativos (sem data de cancelamento).\n",
    "Não foram encontrados problemas.\n",
    "user_id: Identificador único do usuário (tipo int64) — está correto.\n",
    "first_name, last_name, city, plan: Dados de texto (tipo object) — estão apropriados.\n",
    "age: Idade do usuário (tipo int64) — está adequado, mas pode ser interessante verificar valores extremos ou inconsistentes (ex: menores de idade ou maiores de 100).\n",
    "reg_date, churn_date: Datas de registro e cancelamento (tipo datetime64[ns]) — estão corretamente convertidas para datas.\n",
    "\n",
    "\n",
    "\n",
    "\n",
    "[Descreva o que você nota sobre as informações gerais e sobre a amostra de dados impressa acima. Existem problemas (tipos de dados inadequados, dados ausentes, etc.) que precisam de mais investigação e alterações? Como isso pode ser corrigido?]"
   ]
  },
  {
   "cell_type": "markdown",
   "metadata": {
    "id": "ppiEfe3luj8i"
   },
   "source": [
    "### Corrija os dados"
   ]
  },
  {
   "cell_type": "markdown",
   "metadata": {
    "id": "os4Gubp_uj8j"
   },
   "source": [
    "[Corrija problemas óbvios com os dados conforme as observações iniciais.]"
   ]
  },
  {
   "cell_type": "code",
   "execution_count": null,
   "metadata": {
    "id": "Oa1XFooouj8j"
   },
   "outputs": [],
   "source": []
  },
  {
   "cell_type": "markdown",
   "metadata": {
    "id": "H3gpde3Juj8j"
   },
   "source": [
    "### Enriqueça os dados"
   ]
  },
  {
   "cell_type": "markdown",
   "metadata": {
    "id": "HOZyfII6uj8j"
   },
   "source": [
    "[Inclua fatores adicionais aos dados se você acredita que eles podem ser úteis.]"
   ]
  },
  {
   "cell_type": "code",
   "execution_count": 9,
   "metadata": {
    "id": "4vuUjT2juj8j"
   },
   "outputs": [
    {
     "data": {
      "text/html": [
       "<div>\n",
       "<style scoped>\n",
       "    .dataframe tbody tr th:only-of-type {\n",
       "        vertical-align: middle;\n",
       "    }\n",
       "\n",
       "    .dataframe tbody tr th {\n",
       "        vertical-align: top;\n",
       "    }\n",
       "\n",
       "    .dataframe thead th {\n",
       "        text-align: right;\n",
       "    }\n",
       "</style>\n",
       "<table border=\"1\" class=\"dataframe\">\n",
       "  <thead>\n",
       "    <tr style=\"text-align: right;\">\n",
       "      <th></th>\n",
       "      <th>user_id</th>\n",
       "      <th>first_name</th>\n",
       "      <th>last_name</th>\n",
       "      <th>age</th>\n",
       "      <th>city</th>\n",
       "      <th>reg_date</th>\n",
       "      <th>plan</th>\n",
       "      <th>churn_date</th>\n",
       "      <th>is_active</th>\n",
       "      <th>churn_month</th>\n",
       "      <th>messages_included</th>\n",
       "      <th>mb_per_month_included</th>\n",
       "      <th>minutes_included</th>\n",
       "      <th>usd_monthly_pay</th>\n",
       "      <th>usd_per_gb</th>\n",
       "      <th>usd_per_message</th>\n",
       "      <th>usd_per_minute</th>\n",
       "    </tr>\n",
       "  </thead>\n",
       "  <tbody>\n",
       "    <tr>\n",
       "      <th>0</th>\n",
       "      <td>1000</td>\n",
       "      <td>Anamaria</td>\n",
       "      <td>Bauer</td>\n",
       "      <td>45</td>\n",
       "      <td>Atlanta-Sandy Springs-Roswell, GA MSA</td>\n",
       "      <td>2018-12-24</td>\n",
       "      <td>ultimate</td>\n",
       "      <td>NaT</td>\n",
       "      <td>True</td>\n",
       "      <td>NaN</td>\n",
       "      <td>1000</td>\n",
       "      <td>30720</td>\n",
       "      <td>3000</td>\n",
       "      <td>70</td>\n",
       "      <td>7</td>\n",
       "      <td>0.01</td>\n",
       "      <td>0.01</td>\n",
       "    </tr>\n",
       "    <tr>\n",
       "      <th>1</th>\n",
       "      <td>1001</td>\n",
       "      <td>Mickey</td>\n",
       "      <td>Wilkerson</td>\n",
       "      <td>28</td>\n",
       "      <td>Seattle-Tacoma-Bellevue, WA MSA</td>\n",
       "      <td>2018-08-13</td>\n",
       "      <td>surf</td>\n",
       "      <td>NaT</td>\n",
       "      <td>True</td>\n",
       "      <td>NaN</td>\n",
       "      <td>50</td>\n",
       "      <td>15360</td>\n",
       "      <td>500</td>\n",
       "      <td>20</td>\n",
       "      <td>10</td>\n",
       "      <td>0.03</td>\n",
       "      <td>0.03</td>\n",
       "    </tr>\n",
       "    <tr>\n",
       "      <th>2</th>\n",
       "      <td>1002</td>\n",
       "      <td>Carlee</td>\n",
       "      <td>Hoffman</td>\n",
       "      <td>36</td>\n",
       "      <td>Las Vegas-Henderson-Paradise, NV MSA</td>\n",
       "      <td>2018-10-21</td>\n",
       "      <td>surf</td>\n",
       "      <td>NaT</td>\n",
       "      <td>True</td>\n",
       "      <td>NaN</td>\n",
       "      <td>50</td>\n",
       "      <td>15360</td>\n",
       "      <td>500</td>\n",
       "      <td>20</td>\n",
       "      <td>10</td>\n",
       "      <td>0.03</td>\n",
       "      <td>0.03</td>\n",
       "    </tr>\n",
       "    <tr>\n",
       "      <th>3</th>\n",
       "      <td>1003</td>\n",
       "      <td>Reynaldo</td>\n",
       "      <td>Jenkins</td>\n",
       "      <td>52</td>\n",
       "      <td>Tulsa, OK MSA</td>\n",
       "      <td>2018-01-28</td>\n",
       "      <td>surf</td>\n",
       "      <td>NaT</td>\n",
       "      <td>True</td>\n",
       "      <td>NaN</td>\n",
       "      <td>50</td>\n",
       "      <td>15360</td>\n",
       "      <td>500</td>\n",
       "      <td>20</td>\n",
       "      <td>10</td>\n",
       "      <td>0.03</td>\n",
       "      <td>0.03</td>\n",
       "    </tr>\n",
       "    <tr>\n",
       "      <th>4</th>\n",
       "      <td>1004</td>\n",
       "      <td>Leonila</td>\n",
       "      <td>Thompson</td>\n",
       "      <td>40</td>\n",
       "      <td>Seattle-Tacoma-Bellevue, WA MSA</td>\n",
       "      <td>2018-05-23</td>\n",
       "      <td>surf</td>\n",
       "      <td>NaT</td>\n",
       "      <td>True</td>\n",
       "      <td>NaN</td>\n",
       "      <td>50</td>\n",
       "      <td>15360</td>\n",
       "      <td>500</td>\n",
       "      <td>20</td>\n",
       "      <td>10</td>\n",
       "      <td>0.03</td>\n",
       "      <td>0.03</td>\n",
       "    </tr>\n",
       "  </tbody>\n",
       "</table>\n",
       "</div>"
      ],
      "text/plain": [
       "   user_id first_name  last_name  age                                   city  \\\n",
       "0     1000   Anamaria      Bauer   45  Atlanta-Sandy Springs-Roswell, GA MSA   \n",
       "1     1001     Mickey  Wilkerson   28        Seattle-Tacoma-Bellevue, WA MSA   \n",
       "2     1002     Carlee    Hoffman   36   Las Vegas-Henderson-Paradise, NV MSA   \n",
       "3     1003   Reynaldo    Jenkins   52                          Tulsa, OK MSA   \n",
       "4     1004    Leonila   Thompson   40        Seattle-Tacoma-Bellevue, WA MSA   \n",
       "\n",
       "     reg_date      plan churn_date  is_active  churn_month  messages_included  \\\n",
       "0  2018-12-24  ultimate        NaT       True          NaN               1000   \n",
       "1  2018-08-13      surf        NaT       True          NaN                 50   \n",
       "2  2018-10-21      surf        NaT       True          NaN                 50   \n",
       "3  2018-01-28      surf        NaT       True          NaN                 50   \n",
       "4  2018-05-23      surf        NaT       True          NaN                 50   \n",
       "\n",
       "   mb_per_month_included  minutes_included  usd_monthly_pay  usd_per_gb  \\\n",
       "0                  30720              3000               70           7   \n",
       "1                  15360               500               20          10   \n",
       "2                  15360               500               20          10   \n",
       "3                  15360               500               20          10   \n",
       "4                  15360               500               20          10   \n",
       "\n",
       "   usd_per_message  usd_per_minute  \n",
       "0             0.01            0.01  \n",
       "1             0.03            0.03  \n",
       "2             0.03            0.03  \n",
       "3             0.03            0.03  \n",
       "4             0.03            0.03  "
      ]
     },
     "execution_count": 9,
     "metadata": {},
     "output_type": "execute_result"
    }
   ],
   "source": [
    "#criando uma variável booleana is_active.\n",
    "users['is_active'] = users['churn_date'].isna()\n",
    "users['churn_month'] = users['churn_date'].dt.month\n",
    "\n",
    "# Junta os dados de usuários com os planos, adicionando o nome do plano ao DataFrame de usuários\n",
    "users = users.merge(plans, left_on='plan', right_on='plan_name', how='left')\n",
    "\n",
    "# Exclui a coluna duplicada 'plan_name' \n",
    "users.drop('plan_name', axis=1, inplace=True)\n",
    "\n",
    "# Exibe o DataFrame enriquecido\n",
    "users.head()\n"
   ]
  },
  {
   "cell_type": "markdown",
   "metadata": {},
   "source": [
    "<div class=\"alert alert-block alert-success\">\n",
    "<b> Comentário do revisor: </b> <a class=\"tocSkip\"></a>\n",
    "    \n",
    "- Os métodos `info()` e `head()` foram utilizados para estudo inicial do conjunto de dados\n",
    "- Os dados foram convertidos para os tipos corretos\n",
    "- Os atributos foram enriquecidos\n",
    "</div>"
   ]
  },
  {
   "cell_type": "markdown",
   "metadata": {
    "id": "f4uSIMuuuj8j"
   },
   "source": [
    "## Chamadas"
   ]
  },
  {
   "cell_type": "code",
   "execution_count": 10,
   "metadata": {
    "id": "hkY01fJnuj8j"
   },
   "outputs": [
    {
     "name": "stdout",
     "output_type": "stream",
     "text": [
      "         id  user_id  call_date  duration    month\n",
      "0   1000_93     1000 2018-12-27      8.52  2018-12\n",
      "1  1000_145     1000 2018-12-27     13.66  2018-12\n",
      "2  1000_247     1000 2018-12-27     14.48  2018-12\n",
      "3  1000_309     1000 2018-12-28      5.76  2018-12\n",
      "4  1000_380     1000 2018-12-30      4.22  2018-12\n",
      "5  1000_388     1000 2018-12-31      2.20  2018-12\n",
      "6  1000_510     1000 2018-12-27      5.75  2018-12\n",
      "7  1000_521     1000 2018-12-28     14.18  2018-12\n",
      "8  1000_530     1000 2018-12-28      5.77  2018-12\n",
      "9  1000_544     1000 2018-12-26      4.40  2018-12\n"
     ]
    }
   ],
   "source": [
    "print(calls.head(10))\n",
    "\n",
    "\n",
    "# Imprima informações gerais/resumo sobre o DataFrame das chamadas\n",
    "\n"
   ]
  },
  {
   "cell_type": "code",
   "execution_count": 11,
   "metadata": {
    "id": "wdBwJG5Yuj8k"
   },
   "outputs": [
    {
     "name": "stdout",
     "output_type": "stream",
     "text": [
      "<class 'pandas.core.frame.DataFrame'>\n",
      "RangeIndex: 137735 entries, 0 to 137734\n",
      "Data columns (total 5 columns):\n",
      " #   Column     Non-Null Count   Dtype         \n",
      "---  ------     --------------   -----         \n",
      " 0   id         137735 non-null  object        \n",
      " 1   user_id    137735 non-null  int64         \n",
      " 2   call_date  137735 non-null  datetime64[ns]\n",
      " 3   duration   137735 non-null  float64       \n",
      " 4   month      137735 non-null  period[M]     \n",
      "dtypes: datetime64[ns](1), float64(1), int64(1), object(1), period[M](1)\n",
      "memory usage: 5.3+ MB\n",
      "None\n"
     ]
    }
   ],
   "source": [
    "print(calls.info())\n",
    "\n",
    "\n",
    "# Imprima uma amostra de dados das chamadas\n",
    "\n"
   ]
  },
  {
   "cell_type": "markdown",
   "metadata": {
    "id": "Y8An85-Tuj8k"
   },
   "source": [
    "Não foram encontrados problemas, porém podem existir chamadas com duration == 0, elas devem ser tratadas antes de análises de uso.\n",
    "Nenhum valor ausente — todas as 137.735 linhas estão completas.\n",
    "Tipos de dados corretos:call_date já está como datetime64[ns] e duration é float64, apropriado para tempos em minutos\n",
    "\n",
    "\n",
    "\n",
    "[Descreva o que você nota sobre as informações gerais e sobre a amostra de dados impressa acima. Existem problemas (tipos de dados inadequados, dados ausentes, etc.) que precisam de mais investigação e alterações? Como isso pode ser corrigido?]"
   ]
  },
  {
   "cell_type": "markdown",
   "metadata": {
    "id": "x5a99U4xuj8k"
   },
   "source": [
    "### Corrija os dados"
   ]
  },
  {
   "cell_type": "markdown",
   "metadata": {
    "id": "MQqkU83Xuj8k"
   },
   "source": [
    "[Corrija problemas óbvios com os dados conforme as observações iniciais.]"
   ]
  },
  {
   "cell_type": "code",
   "execution_count": 12,
   "metadata": {
    "id": "lBjdw0Bnuj8l"
   },
   "outputs": [
    {
     "name": "stdout",
     "output_type": "stream",
     "text": [
      "         id  user_id  call_date  duration    month\n",
      "0   1000_93     1000 2018-12-27         9  2018-12\n",
      "1  1000_145     1000 2018-12-27        14  2018-12\n",
      "2  1000_247     1000 2018-12-27        15  2018-12\n",
      "3  1000_309     1000 2018-12-28         6  2018-12\n",
      "4  1000_380     1000 2018-12-30         5  2018-12\n"
     ]
    }
   ],
   "source": [
    "# Arredondar para cima as durações (em minutos) — cada minuto iniciado é cobrado\n",
    "import numpy as np\n",
    "calls['duration'] = np.ceil(calls['duration']).astype(int)\n",
    "\n",
    "# Verificar o resultado\n",
    "print(calls.head())"
   ]
  },
  {
   "cell_type": "markdown",
   "metadata": {
    "id": "MFm5xyh4uj8l"
   },
   "source": [
    "### Enriqueça os dados"
   ]
  },
  {
   "cell_type": "markdown",
   "metadata": {
    "id": "Udv2togruj8l"
   },
   "source": [
    "[Inclua fatores adicionais aos dados se você acredita que eles podem ser úteis.]"
   ]
  },
  {
   "cell_type": "code",
   "execution_count": 13,
   "metadata": {
    "id": "nwOKTgfluj8l"
   },
   "outputs": [
    {
     "name": "stdout",
     "output_type": "stream",
     "text": [
      "   user_id  call_date    month\n",
      "0     1000 2018-12-27  2018-12\n",
      "1     1000 2018-12-27  2018-12\n",
      "2     1000 2018-12-27  2018-12\n",
      "3     1000 2018-12-28  2018-12\n",
      "4     1000 2018-12-30  2018-12\n"
     ]
    }
   ],
   "source": [
    "import numpy as np\n",
    "calls['duration'] = np.ceil(calls['duration'])\n",
    "#Arredondar as durações para cima, como operadoras geralmente fazem\n",
    "\n",
    "# Converter a coluna 'call_date' para o tipo datetime\n",
    "calls['call_date'] = pd.to_datetime(calls['call_date'])\n",
    "\n",
    "# Criar uma nova coluna 'month' no formato Year-Month (tipo Periodo Mensal)\n",
    "calls['month'] = calls['call_date'].dt.to_period('M')\n",
    "\n",
    "# Verificar o resultado\n",
    "print(calls[['user_id', 'call_date', 'month']].head())"
   ]
  },
  {
   "cell_type": "markdown",
   "metadata": {},
   "source": [
    "<div class=\"alert alert-block alert-success\">\n",
    "<b> Comentário do revisor: </b> <a class=\"tocSkip\"></a>\n",
    "    \n",
    "- Os métodos `info()` e `head()` foram utilizados para estudo inicial do conjunto de dados\n",
    "- Os dados foram convertidos para os tipos corretos\n",
    "- Os atributos foram enriquecidos\n",
    "</div>"
   ]
  },
  {
   "cell_type": "markdown",
   "metadata": {
    "id": "qLz4FkyRuj8l"
   },
   "source": [
    "## Mensagens"
   ]
  },
  {
   "cell_type": "code",
   "execution_count": 14,
   "metadata": {
    "id": "nFA9DFkCuj8l"
   },
   "outputs": [
    {
     "name": "stdout",
     "output_type": "stream",
     "text": [
      "         id  user_id message_date    month\n",
      "0  1000_125     1000   2018-12-27  2018-12\n",
      "1  1000_160     1000   2018-12-31  2018-12\n",
      "2  1000_223     1000   2018-12-31  2018-12\n",
      "3  1000_251     1000   2018-12-27  2018-12\n",
      "4  1000_255     1000   2018-12-26  2018-12\n",
      "5  1000_346     1000   2018-12-29  2018-12\n",
      "6  1000_386     1000   2018-12-30  2018-12\n",
      "7  1000_413     1000   2018-12-31  2018-12\n",
      "8  1000_502     1000   2018-12-27  2018-12\n",
      "9  1000_525     1000   2018-12-28  2018-12\n"
     ]
    }
   ],
   "source": [
    "print(messages.head(10))\n",
    "\n",
    "# Imprima informações gerais/resumo sobre o DataFrame das mensagens\n",
    "\n"
   ]
  },
  {
   "cell_type": "code",
   "execution_count": 15,
   "metadata": {
    "id": "ysEFBZWxuj8m"
   },
   "outputs": [
    {
     "name": "stdout",
     "output_type": "stream",
     "text": [
      "<class 'pandas.core.frame.DataFrame'>\n",
      "RangeIndex: 76051 entries, 0 to 76050\n",
      "Data columns (total 4 columns):\n",
      " #   Column        Non-Null Count  Dtype         \n",
      "---  ------        --------------  -----         \n",
      " 0   id            76051 non-null  object        \n",
      " 1   user_id       76051 non-null  int64         \n",
      " 2   message_date  76051 non-null  datetime64[ns]\n",
      " 3   month         76051 non-null  period[M]     \n",
      "dtypes: datetime64[ns](1), int64(1), object(1), period[M](1)\n",
      "memory usage: 2.3+ MB\n",
      "None\n"
     ]
    }
   ],
   "source": [
    "print(messages.info())\n",
    "\n",
    "\n",
    "# Imprima uma amostra dos dados das mensagens\n",
    "\n"
   ]
  },
  {
   "cell_type": "markdown",
   "metadata": {
    "id": "GUtt1TqCuj8m"
   },
   "source": [
    "Não foram encontrados erros, não há valores ausentes: todas as colunas possuem 76.051 entradas completas.\n",
    "A coluna message_date já foi convertida corretamente para o tipo datetime64[ns], o que é ideal para análises temporais.\n",
    "Os tipos de dados estão adequados (user_id como int64, id como object e message_date como datetime64[ns]).\n",
    "\n",
    "\n",
    "\n",
    "[Descreva o que você nota sobre as informações gerais e sobre a amostra de dados impressa acima. Existem problemas (tipos de dados inadequados, dados ausentes, etc.) que precisam de mais investigação e alterações? Como isso pode ser corrigido?]"
   ]
  },
  {
   "cell_type": "markdown",
   "metadata": {
    "id": "tT8N_hc6uj8m"
   },
   "source": [
    "### Corrija os dados"
   ]
  },
  {
   "cell_type": "markdown",
   "metadata": {
    "id": "IgO0SzXKuj8m"
   },
   "source": [
    "[Corrija problemas óbvios com os dados conforme as observações iniciais.]"
   ]
  },
  {
   "cell_type": "code",
   "execution_count": 16,
   "metadata": {
    "id": "SpBqbQHCuj8m"
   },
   "outputs": [
    {
     "name": "stdout",
     "output_type": "stream",
     "text": [
      "<class 'pandas.core.frame.DataFrame'>\n",
      "RangeIndex: 76051 entries, 0 to 76050\n",
      "Data columns (total 5 columns):\n",
      " #   Column        Non-Null Count  Dtype         \n",
      "---  ------        --------------  -----         \n",
      " 0   id            76051 non-null  object        \n",
      " 1   user_id       76051 non-null  int64         \n",
      " 2   message_date  76051 non-null  datetime64[ns]\n",
      " 3   month         76051 non-null  period[M]     \n",
      " 4   year_month    76051 non-null  period[M]     \n",
      "dtypes: datetime64[ns](1), int64(1), object(1), period[M](2)\n",
      "memory usage: 2.9+ MB\n",
      "None\n"
     ]
    }
   ],
   "source": [
    "# Converte a coluna 'message_date' para o tipo datetime\n",
    "messages['message_date'] = pd.to_datetime(messages['message_date'])\n",
    "\n",
    "messages['year_month'] = messages['message_date'].dt.to_period('M')\n",
    "\n",
    "messages_agg = messages.groupby(['user_id', 'year_month']).agg(\n",
    "    messages_count=('id', 'count')\n",
    ").reset_index()\n",
    "\n",
    "# Verifica novamente as informações\n",
    "print(messages.info())"
   ]
  },
  {
   "cell_type": "markdown",
   "metadata": {
    "id": "feV2Njo9uj8n"
   },
   "source": [
    "### Enriqueça os dados"
   ]
  },
  {
   "cell_type": "markdown",
   "metadata": {
    "id": "KA5XDEoZuj8n"
   },
   "source": [
    "[Inclua fatores adicionais aos dados se você acredita que eles podem ser úteis.]"
   ]
  },
  {
   "cell_type": "code",
   "execution_count": 17,
   "metadata": {
    "id": "SkuCXcLJuj8n"
   },
   "outputs": [
    {
     "name": "stdout",
     "output_type": "stream",
     "text": [
      "   user_id message_date  month year_month\n",
      "0     1000   2018-12-27     12    2018-12\n",
      "1     1000   2018-12-31     12    2018-12\n",
      "2     1000   2018-12-31     12    2018-12\n",
      "3     1000   2018-12-27     12    2018-12\n",
      "4     1000   2018-12-26     12    2018-12\n"
     ]
    }
   ],
   "source": [
    "# Garante que a coluna message_date esteja no formato datetime\n",
    "messages['message_date'] = pd.to_datetime(messages['message_date'])\n",
    "\n",
    "# Cria a coluna com ano e mês combinados (formato period)\n",
    "messages['year_month'] = messages['message_date'].dt.to_period('M')\n",
    "\n",
    "# Cria a coluna somente com o número do mês (int)\n",
    "messages['month'] = messages['message_date'].dt.month\n",
    "\n",
    "# Agrupa o número de mensagens por usuário e mês\n",
    "messages_per_month = messages.groupby(['user_id', 'year_month']).agg(messages=('id', 'count')).reset_index()\n",
    "\n",
    "# Exibe uma amostra das colunas relevantes\n",
    "print(messages[['user_id', 'message_date', 'month', 'year_month']].head())\n"
   ]
  },
  {
   "cell_type": "markdown",
   "metadata": {},
   "source": [
    "<div class=\"alert alert-block alert-success\">\n",
    "<b> Comentário do revisor: </b> <a class=\"tocSkip\"></a>\n",
    "    \n",
    "- Os métodos `info()` e `head()` foram utilizados para estudo inicial do conjunto de dados\n",
    "- Os dados foram convertidos para os tipos corretos\n",
    "- Os atributos foram enriquecidos\n",
    "</div>"
   ]
  },
  {
   "cell_type": "markdown",
   "metadata": {
    "id": "ZRFaOWzGuj8n"
   },
   "source": [
    "## Internet"
   ]
  },
  {
   "cell_type": "code",
   "execution_count": 18,
   "metadata": {
    "id": "ob3-qv4nuj8n"
   },
   "outputs": [
    {
     "name": "stdout",
     "output_type": "stream",
     "text": [
      "         id  user_id session_date  mb_used    month\n",
      "0   1000_13     1000   2018-12-29    89.86  2018-12\n",
      "1  1000_204     1000   2018-12-31     0.00  2018-12\n",
      "2  1000_379     1000   2018-12-28   660.40  2018-12\n",
      "3  1000_413     1000   2018-12-26   270.99  2018-12\n",
      "4  1000_442     1000   2018-12-27   880.22  2018-12\n",
      "5    1001_0     1001   2018-08-24   284.68  2018-08\n",
      "6    1001_3     1001   2018-12-09   656.04  2018-12\n",
      "7    1001_4     1001   2018-11-04    16.97  2018-11\n",
      "8   1001_10     1001   2018-11-27   135.18  2018-11\n",
      "9   1001_15     1001   2018-12-13   761.92  2018-12\n"
     ]
    }
   ],
   "source": [
    "print(internet.head(10))\n",
    "\n",
    "\n",
    "# Imprima informações gerais/resumo sobre o DataFrame da internet\n",
    "\n"
   ]
  },
  {
   "cell_type": "code",
   "execution_count": 19,
   "metadata": {
    "id": "iIHK4fZsuj8n"
   },
   "outputs": [
    {
     "name": "stdout",
     "output_type": "stream",
     "text": [
      "<class 'pandas.core.frame.DataFrame'>\n",
      "RangeIndex: 104825 entries, 0 to 104824\n",
      "Data columns (total 5 columns):\n",
      " #   Column        Non-Null Count   Dtype         \n",
      "---  ------        --------------   -----         \n",
      " 0   id            104825 non-null  object        \n",
      " 1   user_id       104825 non-null  int64         \n",
      " 2   session_date  104825 non-null  datetime64[ns]\n",
      " 3   mb_used       104825 non-null  float64       \n",
      " 4   month         104825 non-null  period[M]     \n",
      "dtypes: datetime64[ns](1), float64(1), int64(1), object(1), period[M](1)\n",
      "memory usage: 4.0+ MB\n",
      "None\n"
     ]
    }
   ],
   "source": [
    "print(internet.info())#  Imprima uma amostra de dados para o tráfego da internet\n",
    "\n"
   ]
  },
  {
   "cell_type": "markdown",
   "metadata": {
    "id": "6wpo7ugquj8o"
   },
   "source": [
    "Todas as colunas estão completas — nenhum valor ausente.\n",
    "A coluna session_date já está no formato datetime64[ns], o que facilita qualquer análise temporal.\n",
    "Os tipos de dados estão adequados:\n",
    "user_id como inteiro,mb_used como float64 (uso de internet em megabytes),id como identificador textual (object).\n",
    "Existem registros com 0.00 MB usados (por exemplo, linha 1).Isso pode indicar sessões não utilizadas ou erros de registro.\n",
    "\n",
    "\n",
    "[Descreva o que você nota sobre as informações gerais e sobre a amostra de dados impressa acima. Existem problemas (tipos de dados inadequados, dados ausentes, etc.) que precisam de mais investigação e alterações? Como isso pode ser corrigido?]"
   ]
  },
  {
   "cell_type": "markdown",
   "metadata": {
    "id": "Tly90YrTuj8o"
   },
   "source": [
    "### Corrija os dados"
   ]
  },
  {
   "cell_type": "markdown",
   "metadata": {
    "id": "F_yvcX-9uj8o"
   },
   "source": [
    "[Corrija problemas óbvios com os dados conforme as observações iniciais.]"
   ]
  },
  {
   "cell_type": "code",
   "execution_count": 20,
   "metadata": {
    "id": "GCoX7kbmuj8o"
   },
   "outputs": [],
   "source": [
    "internet[internet['mb_used'] == 0].shape\n",
    "#verificar a frequência desses valores e decidir se devem ser removidos ou tratados separadamente.\n",
    "\n",
    "internet = internet[internet['mb_used'] > 0]\n",
    "# remover os registros com mb_used == 0?\n",
    "\n",
    "# Garante que a coluna session_date esteja no formato datetime\n",
    "internet['session_date'] = pd.to_datetime(internet['session_date'])\n"
   ]
  },
  {
   "cell_type": "markdown",
   "metadata": {
    "id": "DEDbrtFduj8o"
   },
   "source": [
    "### Enriqueça os dados"
   ]
  },
  {
   "cell_type": "markdown",
   "metadata": {
    "id": "ilg-XzXpuj8p"
   },
   "source": [
    "[Inclua fatores adicionais aos dados se você acredita que eles podem ser úteis.]"
   ]
  },
  {
   "cell_type": "code",
   "execution_count": 21,
   "metadata": {
    "id": "f1PoZ3Ukuj8p"
   },
   "outputs": [
    {
     "name": "stdout",
     "output_type": "stream",
     "text": [
      "Index(['id', 'user_id', 'session_date', 'mb_used', 'month'], dtype='object')\n",
      "   user_id session_date  month year_month\n",
      "0     1000   2018-12-29     12    2018-12\n",
      "2     1000   2018-12-28     12    2018-12\n",
      "3     1000   2018-12-26     12    2018-12\n",
      "4     1000   2018-12-27     12    2018-12\n",
      "5     1001   2018-08-24      8    2018-08\n"
     ]
    }
   ],
   "source": [
    "print(internet.columns)\n",
    "\n",
    "# Cria a coluna com o período ano-mês\n",
    "internet['year_month'] = internet['session_date'].dt.to_period('M')\n",
    "\n",
    "# Cria a coluna apenas com o número do mês\n",
    "internet['month'] = internet['session_date'].dt.month\n",
    "\n",
    "# Visualiza as novas colunas adicionadas\n",
    "print(internet[['user_id', 'session_date', 'month', 'year_month']].head())\n",
    "\n",
    "internet.rename(columns={\"mb_used\": \"session_mb\"}, inplace=True)\n",
    "internet[\"session_gb\"] = internet[\"session_mb\"] / 1024\n"
   ]
  },
  {
   "cell_type": "markdown",
   "metadata": {},
   "source": [
    "<div class=\"alert alert-block alert-danger\">\n",
    "<b> Comentário do revisor: </b> <a class=\"tocSkip\"></a>\n",
    "    \n",
    "<s>- Aqui você precisa converter o uso de internet de `mb` para `gb`. Lembre que `1gb==1024mb`.</s>\n",
    "</div>"
   ]
  },
  {
   "cell_type": "markdown",
   "metadata": {
    "id": "bnOX4ARJuj8p"
   },
   "source": [
    "## Estude as condições dos planos"
   ]
  },
  {
   "cell_type": "markdown",
   "metadata": {
    "id": "vMu9_L8quj8p"
   },
   "source": [
    "[É fundamental entender como os planos funcionam, ou seja, como as cobranças dos usuários são feitas com base na assinatura. Sugerimos imprimir as informações sobre os planos para visualizar novamente as condições.]"
   ]
  },
  {
   "cell_type": "code",
   "execution_count": 22,
   "metadata": {
    "id": "vMXVndWEuj8p"
   },
   "outputs": [
    {
     "name": "stdout",
     "output_type": "stream",
     "text": [
      "   messages_included  mb_per_month_included  minutes_included  \\\n",
      "0                 50                  15360               500   \n",
      "1               1000                  30720              3000   \n",
      "\n",
      "   usd_monthly_pay  usd_per_gb  usd_per_message  usd_per_minute plan_name  \n",
      "0               20          10             0.03            0.03      surf  \n",
      "1               70           7             0.01            0.01  ultimate  \n"
     ]
    }
   ],
   "source": [
    "print(plans)# Imprima as condições dos planos e certifique-se de que elas fazem sentido para você\n",
    "\n"
   ]
  },
  {
   "cell_type": "markdown",
   "metadata": {
    "id": "1v1EshDmuj8q"
   },
   "source": [
    "## Agregue os dados por usuário\n",
    "\n",
    "[Agora, como os dados estão limpos, os agregue por usuário e por período para ter apenas um registro dessas informações. Isso vai facilitar muito as próximas análises.]"
   ]
  },
  {
   "cell_type": "code",
   "execution_count": 23,
   "metadata": {
    "id": "4hmb2pSPuj8q"
   },
   "outputs": [
    {
     "name": "stdout",
     "output_type": "stream",
     "text": [
      "Index(['id', 'user_id', 'call_date', 'duration', 'month', 'year_month'], dtype='object')\n",
      "   user_id year_month  calls_count  calls_duration\n",
      "0     1000    2018-12           16           124.0\n",
      "1     1001    2018-08           27           182.0\n",
      "2     1001    2018-09           49           315.0\n",
      "3     1001    2018-10           65           393.0\n",
      "4     1001    2018-11           64           426.0\n"
     ]
    }
   ],
   "source": [
    "# Certifique-se que 'call_date' está no formato datetime\n",
    "calls['call_date'] = pd.to_datetime(calls['call_date'])\n",
    "\n",
    "# Cria coluna 'year_month' com o ano e mês no formato Periodo (ex: 2023-05)\n",
    "calls['year_month'] = calls['call_date'].dt.to_period('M')\n",
    "\n",
    "# Verifique o nome da coluna que identifica as chamadas (exemplo 'id' ou 'call_id')\n",
    "print(calls.columns)\n",
    "\n",
    "# Substitua 'id' pelo nome correto da coluna de identificador único da chamada\n",
    "# Agregue: conta chamadas e soma duração por usuário e mês\n",
    "calls_agg = calls.groupby(['user_id', 'year_month']).agg(\n",
    "    calls_count=('id', 'count'),           # substitua 'id' se necessário\n",
    "    calls_duration=('duration', 'sum')     # coluna com duração da chamada\n",
    ").reset_index()\n",
    "\n",
    "# Exibe resultado\n",
    "print(calls_agg.head())\n",
    "\n",
    "\n",
    "# Calcule o número de chamadas feitas por cada usuário por mês. Salve o resultado."
   ]
  },
  {
   "cell_type": "code",
   "execution_count": 24,
   "metadata": {
    "id": "yHgBWCJJuj8q"
   },
   "outputs": [
    {
     "name": "stdout",
     "output_type": "stream",
     "text": [
      "   user_id year_month  total_minutes\n",
      "0     1000    2018-12          124.0\n",
      "1     1001    2018-08          182.0\n",
      "2     1001    2018-09          315.0\n",
      "3     1001    2018-10          393.0\n",
      "4     1001    2018-11          426.0\n"
     ]
    }
   ],
   "source": [
    "minutes_per_month = calls.groupby(['user_id', 'year_month']).agg(\n",
    "    total_minutes=('duration', 'sum')\n",
    ").reset_index()\n",
    "\n",
    "print(minutes_per_month.head())\n",
    "\n",
    "\n",
    "\n",
    "# Calcule a quantidade de minutos gastos por cada usuário por mês. Salve o resultado."
   ]
  },
  {
   "cell_type": "code",
   "execution_count": 25,
   "metadata": {
    "id": "MaM_cPxauj8q"
   },
   "outputs": [
    {
     "name": "stdout",
     "output_type": "stream",
     "text": [
      "   user_id year_month  messages_count\n",
      "0     1000    2018-12              11\n",
      "1     1001    2018-08              30\n",
      "2     1001    2018-09              44\n",
      "3     1001    2018-10              53\n",
      "4     1001    2018-11              36\n"
     ]
    }
   ],
   "source": [
    "# Certifique-se que a coluna de data está no formato datetime\n",
    "messages['message_date'] = pd.to_datetime(messages['message_date'])\n",
    "\n",
    "# Crie a coluna year_month para agrupar por mês e ano\n",
    "messages['year_month'] = messages['message_date'].dt.to_period('M')\n",
    "\n",
    "# Agrupe por user_id e year_month, contando a quantidade de mensagens enviadas\n",
    "messages_per_month = messages.groupby(['user_id', 'year_month']).agg(\n",
    "    messages_count=('id', 'count')\n",
    ").reset_index()\n",
    "\n",
    "print(messages_per_month.head())\n",
    "\n",
    "\n",
    "\n",
    "# Calcule o número de mensagens enviadas por cada usuário por mês. Salve o resultado."
   ]
  },
  {
   "cell_type": "code",
   "execution_count": 26,
   "metadata": {
    "id": "WsCEZJ_xuj8q"
   },
   "outputs": [
    {
     "name": "stdout",
     "output_type": "stream",
     "text": [
      "   user_id  month  session_gb\n",
      "0     1000     12    1.856904\n",
      "1     1001      8    6.756982\n",
      "2     1001      9   13.002754\n",
      "3     1001     10   21.807119\n",
      "4     1001     11   18.070605\n"
     ]
    }
   ],
   "source": [
    "\n",
    "monthly_traffic = internet.groupby(['user_id', 'month'])['session_gb'].sum().reset_index()\n",
    "print(monthly_traffic.head())\n",
    "\n",
    "\n",
    "\n",
    "# Calcule o volume de tráfego de internet usado por cada usuário por mês. Salve o resultado."
   ]
  },
  {
   "cell_type": "markdown",
   "metadata": {
    "id": "6nBsD4hduj8q"
   },
   "source": [
    "[Coloque os dados agregados em um DataFrame para que cada registro nele represente o que cada usuário consumiu em um determinado mês.]"
   ]
  },
  {
   "cell_type": "code",
   "execution_count": 27,
   "metadata": {
    "id": "BYDTkxOauj8r"
   },
   "outputs": [
    {
     "name": "stdout",
     "output_type": "stream",
     "text": [
      "   user_id year_month  calls_count  calls_duration  messages_count  session_gb\n",
      "0     1000    2018-12         16.0           124.0            11.0    1.856904\n",
      "1     1001    2018-08         27.0           182.0            30.0    6.756982\n",
      "2     1001    2018-09         49.0           315.0            44.0   13.002754\n",
      "3     1001    2018-10         65.0           393.0            53.0   21.807119\n",
      "4     1001    2018-11         64.0           426.0            36.0   18.070605\n"
     ]
    }
   ],
   "source": [
    "# Etapa 1: Agrupando o tráfego de internet por usuário e mês\n",
    "internet_per_month = internet.groupby(['user_id', 'year_month'])['session_gb'].sum().reset_index()\n",
    "\n",
    "# Etapa 2: Juntando chamadas com mensagens (usando outer join)\n",
    "df_merged = calls_agg.merge(messages_agg, on=['user_id', 'year_month'], how='outer')\n",
    "\n",
    "# Etapa 3: Juntando com o tráfego de internet\n",
    "df_merged = df_merged.merge(internet_per_month, on=['user_id', 'year_month'], how='outer')\n",
    "\n",
    "# Etapa 4: Preenchendo valores ausentes com zero\n",
    "df_merged.fillna(0, inplace=True)\n",
    "\n",
    "# Etapa 5: Visualizar o resultado\n",
    "print(df_merged.head())"
   ]
  },
  {
   "cell_type": "markdown",
   "metadata": {},
   "source": [
    "<div class=\"alert alert-block alert-success\">\n",
    "<b> Comentário do revisor: </b> <a class=\"tocSkip\"></a>\n",
    "    \n",
    "Bom trabalho fazendo o merge dos dados utilizando `outer`!\n",
    "</div>"
   ]
  },
  {
   "cell_type": "code",
   "execution_count": 28,
   "metadata": {
    "id": "SW-sgLaHuj8r"
   },
   "outputs": [
    {
     "name": "stdout",
     "output_type": "stream",
     "text": [
      "   user_id year_month  calls_count  calls_duration  messages_count  \\\n",
      "0     1000    2018-12         16.0           124.0            11.0   \n",
      "1     1001    2018-08         27.0           182.0            30.0   \n",
      "2     1001    2018-09         49.0           315.0            44.0   \n",
      "3     1001    2018-10         65.0           393.0            53.0   \n",
      "4     1001    2018-11         64.0           426.0            36.0   \n",
      "\n",
      "   session_gb      plan  messages_included  mb_per_month_included  \\\n",
      "0    1.856904  ultimate               1000                  30720   \n",
      "1    6.756982      surf                 50                  15360   \n",
      "2   13.002754      surf                 50                  15360   \n",
      "3   21.807119      surf                 50                  15360   \n",
      "4   18.070605      surf                 50                  15360   \n",
      "\n",
      "   minutes_included  usd_monthly_pay  usd_per_gb  usd_per_message  \\\n",
      "0              3000               70           7             0.01   \n",
      "1               500               20          10             0.03   \n",
      "2               500               20          10             0.03   \n",
      "3               500               20          10             0.03   \n",
      "4               500               20          10             0.03   \n",
      "\n",
      "   usd_per_minute plan_name  \n",
      "0            0.01  ultimate  \n",
      "1            0.03      surf  \n",
      "2            0.03      surf  \n",
      "3            0.03      surf  \n",
      "4            0.03      surf  \n"
     ]
    }
   ],
   "source": [
    "# Primeiro, junte df_merged com os dados de usuários para trazer o plano contratado\n",
    "df_merged = df_merged.merge(users[['user_id', 'plan']], on='user_id', how='left')\n",
    "\n",
    "# Se quiser incluir detalhes do plano, junte também com o DataFrame plans\n",
    "df_merged = df_merged.merge(plans, left_on='plan', right_on='plan_name', how='left')\n",
    "\n",
    "# Agora df_merged tem as colunas de consumo e detalhes dos planos\n",
    "print(df_merged.head())\n",
    "\n",
    "# Adicione as informações sobre o plano\n",
    "\n"
   ]
  },
  {
   "cell_type": "markdown",
   "metadata": {
    "id": "mU8dKHTQuj8r"
   },
   "source": [
    "[Calcule a receita mensal para cada usuário: subtraia o limite gratuito do pacote do número total de chamadas, mensagens de texto e dados; multiplique o resultado pelo valor do plano; adicione o preço mensal dependendo do plano. Importante: isso talvez não seja tão simples e necessite de várias linhas, considerando as condições do plano. Portanto, não se preocupe se você passar algum tempo nesta etapa.]"
   ]
  },
  {
   "cell_type": "code",
   "execution_count": 29,
   "metadata": {
    "id": "JiPHXbQAuj8r"
   },
   "outputs": [],
   "source": [
    "def calculate_rev(row):\n",
    "    minutes_used = max(0, row['calls_duration'] - row['minutes_included'])\n",
    "    messages_used = max(0, row['messages_count'] - row['messages_included'])\n",
    "    internet_used = max(0, row['session_gb'] - (row['mb_per_month_included'] / 1024))  # mb para gb\n",
    "\n",
    "    extra_minutes_cost = minutes_used * row['usd_per_minute']\n",
    "    extra_messages_cost = messages_used * row['usd_per_message']\n",
    "    extra_internet_cost = internet_used * row['usd_per_gb']\n",
    "\n",
    "    total_monthly_revenue = extra_minutes_cost + extra_messages_cost + extra_internet_cost + row['usd_monthly_pay']\n",
    "    \n",
    "    return total_monthly_revenue\n",
    "\n",
    "df_merged['monthly_revenue'] = df_merged.apply(calculate_rev, axis=1)\n",
    "\n",
    "# Calcule a receita mensal para cada usuário"
   ]
  },
  {
   "cell_type": "code",
   "execution_count": 40,
   "metadata": {},
   "outputs": [
    {
     "data": {
      "text/plain": [
       "0    70.000000\n",
       "1    20.000000\n",
       "2    20.000000\n",
       "3    88.161191\n",
       "4    50.706055\n",
       "Name: monthly_revenue, dtype: float64"
      ]
     },
     "execution_count": 40,
     "metadata": {},
     "output_type": "execute_result"
    }
   ],
   "source": [
    "df_merged['monthly_revenue'].head()"
   ]
  },
  {
   "cell_type": "markdown",
   "metadata": {},
   "source": [
    "<div class=\"alert alert-block alert-danger\">\n",
    "<b> Comentário do revisor v2: </b> <a class=\"tocSkip\"></a>\n",
    "    \n",
    "<s>Aqui você precisa aplicar a função de cálculo de receita ao `dataframe` agregado. Você pode usar, por exemplo, o método `.apply(..)` para aplicar a função acima em cada linha do conjunto de dados.</s>\n",
    "</div>"
   ]
  },
  {
   "attachments": {
    "a47e542c-7fb7-4ab9-ae08-4fb269c47ee3.png": {
     "image/png": "[encoded data removed]"
    }
   },
   "cell_type": "markdown",
   "metadata": {},
   "source": [
    "<div class=\"alert alert-block alert-danger\">\n",
    "<b> Comentário do revisor: </b> <a class=\"tocSkip\"></a>\n",
    "<s>\n",
    "    \n",
    "Aqui não é preciso criar outro `dataframe`, você precisa usar apenas os dados que foram fornecidos e carregados inicialmente. Além disso, o resultado final está diferente do esperado. Segue abaixo um exemplo de uma função para cálculo de receita.\n",
    "\n",
    "```python\n",
    "def calculate_rev(row):\n",
    "    minutes_used = max(0, row['total_duration'] - row['minutes_included'])\n",
    "    messages_used = max(0, row['total_sms'] - row['messages_included'])\n",
    "    internet_used = max(0, (row['..']) - row['..']) \n",
    "\n",
    "    # Calcular o custo excedente \n",
    "    extra_minutes_cost = minutes_used * row['..']\n",
    "    extra_messages_cost = messages_used * row['..']\n",
    "    extra_internet_cost = internet_used * row['usd_per_gb'] # verifique que o valor está por `gb`\n",
    "    \n",
    "    # Calcular o custo Total dos extras adicionar o preço mensal do plano\n",
    "    total_monthly_revenue = extra_minutes_cost + extra_messages_cost + extra_internet_cost + row['..'] # valor do plano\n",
    "        \n",
    "    return total_monthly_revenue\n",
    "``` \n",
    "\n",
    "Resultado aproximado para as 5 primeiras linhas:\n",
    "    \n",
    "![image.png](attachment:a47e542c-7fb7-4ab9-ae08-4fb269c47ee3.png)\n",
    "\n",
    "</s>\n",
    "</div>"
   ]
  },
  {
   "cell_type": "markdown",
   "metadata": {
    "id": "0HFWXKTQuj8r"
   },
   "source": [
    "## Estude o comportamento do usuário"
   ]
  },
  {
   "cell_type": "markdown",
   "metadata": {
    "id": "i6gGFggkuj8s"
   },
   "source": [
    "[Calcule algumas estatísticas descritivas úteis para os dados agregados, o que costuma revelar uma imagem geral capturada pelos dados. Desenhe gráficos úteis para ajudar na compreensão. Já que a tarefa principal é comparar os planos e decidir qual é mais rentável, as estatísticas e os gráficos devem ser calculados por plano.]\n",
    "\n",
    "[Existem dicas relevantes nos comentários para as chamadas. Essas dicas não foram fornecidas para as mensagens e internet, mas o princípio do estudo estatístico é o mesmo em todos os casos.]\n",
    "\n",
    "\n"
   ]
  },
  {
   "cell_type": "markdown",
   "metadata": {
    "id": "umaMfSLxuj8s"
   },
   "source": [
    "### Chamadas"
   ]
  },
  {
   "cell_type": "code",
   "execution_count": 30,
   "metadata": {
    "id": "0236-tJnuj8t"
   },
   "outputs": [
    {
     "name": "stdout",
     "output_type": "stream",
     "text": [
      "Index(['user_id', 'first_name', 'last_name', 'age', 'city', 'reg_date', 'plan',\n",
      "       'churn_date', 'is_active', 'churn_month', 'messages_included',\n",
      "       'mb_per_month_included', 'minutes_included', 'usd_monthly_pay',\n",
      "       'usd_per_gb', 'usd_per_message', 'usd_per_minute'],\n",
      "      dtype='object')\n"
     ]
    },
    {
     "data": {
      "image/png": "[encoded data removed]",
      "text/plain": [
       "<Figure size 1400x600 with 1 Axes>"
      ]
     },
     "metadata": {},
     "output_type": "display_data"
    }
   ],
   "source": [
    "print(users.columns)\n",
    "\n",
    "\n",
    "# Corrigir a coluna 'plan_name' para 'plan'\n",
    "calls['year_month'] = calls['call_date'].dt.to_period('M')\n",
    "\n",
    "# Faz o merge com a coluna correta\n",
    "calls = calls.merge(users[['user_id', 'plan']], on='user_id', how='left')\n",
    "\n",
    "# Renomeia 'plan' para 'plan_name' (opcional, para facilitar leitura nos gráficos)\n",
    "calls.rename(columns={'plan': 'plan_name'}, inplace=True)\n",
    "\n",
    "# Agrupa e calcula a duração média\n",
    "avg_duration = calls.groupby(['plan_name', 'year_month'])['duration'].mean().reset_index()\n",
    "avg_duration['year_month'] = avg_duration['year_month'].astype(str)\n",
    "\n",
    "# Plot do gráfico de barras\n",
    "import matplotlib.pyplot as plt\n",
    "import seaborn as sns\n",
    "\n",
    "plt.figure(figsize=(14, 6))\n",
    "sns.barplot(data=avg_duration, x='year_month', y='duration', hue='plan_name')\n",
    "plt.title('Duração Média das Chamadas por Plano e Mês')\n",
    "plt.xlabel('Ano/Mês')\n",
    "plt.ylabel('Duração Média (minutos)')\n",
    "plt.xticks(rotation=45)\n",
    "plt.legend(title='Plano')\n",
    "plt.grid(True)\n",
    "plt.tight_layout()\n",
    "plt.show()\n",
    "\n",
    "# Compare a duração média das chamadas de cada plano para cada mês. Crie um gráfico de barras para visualizar o resultado.\n",
    "\n"
   ]
  },
  {
   "cell_type": "code",
   "execution_count": 31,
   "metadata": {
    "id": "9sCQ1lP8uj8u"
   },
   "outputs": [
    {
     "data": {
      "image/png": "[encoded data removed]",
      "text/plain": [
       "<Figure size 1200x600 with 1 Axes>"
      ]
     },
     "metadata": {},
     "output_type": "display_data"
    }
   ],
   "source": [
    "import matplotlib.pyplot as plt\n",
    "import seaborn as sns\n",
    "\n",
    "# Garantir que a coluna de data esteja em formato datetime\n",
    "calls['call_date'] = pd.to_datetime(calls['call_date'])\n",
    "\n",
    "# Criar coluna de ano e mês\n",
    "calls['year_month'] = calls['call_date'].dt.to_period('M')\n",
    "\n",
    "# Juntar com os dados dos usuários para obter o plano\n",
    "calls = calls.merge(users[['user_id', 'plan']], on='user_id', how='left')\n",
    "\n",
    "# Agrupar: total de minutos por usuário por mês\n",
    "monthly_minutes = calls.groupby(['user_id', 'plan', 'year_month'])['duration'].sum().reset_index()\n",
    "\n",
    "# Plotar histograma\n",
    "plt.figure(figsize=(12, 6))\n",
    "sns.histplot(data=monthly_minutes, x='duration', hue='plan', kde=True, bins=30, element=\"step\")\n",
    "plt.title('Distribuição da Duração Total de Chamadas por Plano (por Mês)')\n",
    "plt.xlabel('Minutos por Mês')\n",
    "plt.ylabel('Número de Usuários')\n",
    "plt.grid(True)\n",
    "plt.show()\n",
    "\n",
    "# Compare o número de minutos que os usuários de cada plano necessitam a cada mês. Construa um histograma.\n",
    "\n"
   ]
  },
  {
   "cell_type": "markdown",
   "metadata": {
    "id": "_x1pRDFtuj8u"
   },
   "source": [
    "[Calcule a média e a variância da duração das chamadas para refletir se os usuários de cada plano possuem comportamentos diferentes sobre as chamadas.]"
   ]
  },
  {
   "cell_type": "code",
   "execution_count": 32,
   "metadata": {
    "id": "cIdodPExuj8u"
   },
   "outputs": [
    {
     "name": "stdout",
     "output_type": "stream",
     "text": [
      "Index(['id', 'user_id', 'call_date', 'duration', 'month', 'year_month',\n",
      "       'plan_name', 'plan'],\n",
      "      dtype='object')\n",
      "Valores nulos na coluna 'plan': 0\n",
      "       plan        mean           var\n",
      "0      surf  436.519741  52571.063243\n",
      "1  ultimate  434.676017  56573.632247\n"
     ]
    }
   ],
   "source": [
    "# 1. Ver todas as colunas únicas\n",
    "print(calls.columns)\n",
    "\n",
    "# 2. Remover colunas duplicadas de plano (manter só a correta)\n",
    "calls = calls.drop(columns=[col for col in calls.columns if col.startswith('plan_') and col != 'plan'])\n",
    "\n",
    "# 3. Se ainda tiver mais de uma coluna 'plan', mantenha só uma\n",
    "calls = calls.loc[:, ~calls.columns.duplicated()]\n",
    "\n",
    "# 4. Garantir que a coluna 'plan' está correta e sem valores nulos\n",
    "print(\"Valores nulos na coluna 'plan':\", calls['plan'].isna().sum())\n",
    "\n",
    "# 5. Converter a data corretamente e criar a coluna de ano/mês\n",
    "calls['call_date'] = pd.to_datetime(calls['call_date'])\n",
    "calls['year_month'] = calls['call_date'].dt.to_period('M')\n",
    "\n",
    "# 6. Agrupar por usuário, plano e mês para calcular a soma da duração\n",
    "monthly_calls = calls.groupby(['user_id', 'plan', 'year_month'])['duration'].sum().reset_index()\n",
    "\n",
    "# 7. Calcular média e variância da duração mensal por plano\n",
    "stats = monthly_calls.groupby('plan')['duration'].agg(['mean', 'var']).reset_index()\n",
    "\n",
    "# 8. Exibir estatísticas finais\n",
    "print(stats)\n",
    "\n",
    "\n",
    "# Calcule a média e a variância da duração mensal das chamadas"
   ]
  },
  {
   "cell_type": "code",
   "execution_count": 33,
   "metadata": {
    "id": "DW7vTypxuj8u"
   },
   "outputs": [
    {
     "data": {
      "image/png": "[encoded data removed]",
      "text/plain": [
       "<Figure size 1400x600 with 1 Axes>"
      ]
     },
     "metadata": {},
     "output_type": "display_data"
    }
   ],
   "source": [
    "# Define paleta personalizada com apenas azul e laranja\n",
    "custom_palette = ['#1f77b4', '#ff7f0e']  # Azul e laranja (padrão Matplotlib)\n",
    "\n",
    "plt.figure(figsize=(14, 6))\n",
    "sns.boxplot(data=monthly_calls, x='year_month', y='duration', palette=custom_palette)\n",
    "\n",
    "plt.title('Distribuição da duração mensal das chamadas ao longo dos meses')\n",
    "plt.xlabel('Ano-Mês')\n",
    "plt.ylabel('Duração total das chamadas no mês (minutos)')\n",
    "plt.xticks(rotation=45)\n",
    "plt.show()\n",
    "# Faça um diagrama de caixa para visualizar a distribuição da duração mensal das chamadas\n",
    "\n"
   ]
  },
  {
   "cell_type": "markdown",
   "metadata": {
    "id": "Uyt3rWn7uj8u"
   },
   "source": [
    "A média de minutos usados por mês é praticamente igual entre os planos. Isso indica que, em geral, os usuários usam cerca de 430 minutos por mês independentemente do plano contratado.\n",
    "A dispersão dos minutos utilizados também é bastante próxima. Isso sugere que o comportamento dos usuários em chamadas é similar entre os dois planos, mesmo com o plano ultimate oferecendo minutos ilimitados.\n",
    "\n",
    "\n",
    "[Formule conclusões sobre como os usuários se comportam em termos de chamadas. O comportamento é diferente dependendo do plano?]"
   ]
  },
  {
   "attachments": {
    "e1bfe147-a0a6-42a0-9a4f-dddba977a643.png": {
     "image/png": "[encoded data removed]"
    }
   },
   "cell_type": "markdown",
   "metadata": {},
   "source": [
    "<div class=\"alert alert-block alert-danger\">\n",
    "<b> Comentário do revisor: </b> <a class=\"tocSkip\"></a>\n",
    "<s>\n",
    "    \n",
    "Aqui você precisa analisar a distribuição por plano e ao longo dos meses. Sugestão:\n",
    "   \n",
    "![image.png](attachment:e1bfe147-a0a6-42a0-9a4f-dddba977a643.png)\n",
    "</s>\n",
    "</div>"
   ]
  },
  {
   "cell_type": "markdown",
   "metadata": {},
   "source": [
    "<div class=\"alert alert-block alert-danger\">\n",
    "<b> Comentário do revisor v2: </b> <a class=\"tocSkip\"></a>\n",
    "    \n",
    "<s>Aqui você precisa agrupar o gráfico acima por mês e plano. Veja o exemplo acima como referência.</s>\n",
    "</div>"
   ]
  },
  {
   "cell_type": "markdown",
   "metadata": {
    "id": "2hWSPtrnuj8v"
   },
   "source": [
    "### Mensagens"
   ]
  },
  {
   "cell_type": "code",
   "execution_count": 34,
   "metadata": {
    "id": "9kPlAhOJuj8v"
   },
   "outputs": [
    {
     "data": {
      "image/png": "[encoded data removed]",
      "text/plain": [
       "<Figure size 1400x600 with 1 Axes>"
      ]
     },
     "metadata": {},
     "output_type": "display_data"
    }
   ],
   "source": [
    "# Certifique-se de que a coluna 'message_date' esteja em datetime\n",
    "messages['year_month'] = messages['message_date'].dt.to_period('M')\n",
    "\n",
    "# Faz o merge com o DataFrame 'users' para trazer os planos\n",
    "messages = messages.merge(users[['user_id', 'plan']], on='user_id', how='left')\n",
    "messages.rename(columns={'plan': 'plan_name'}, inplace=True)\n",
    "\n",
    "# Conta o número de mensagens por usuário por mês\n",
    "msg_counts = messages.groupby(['plan_name', 'year_month'])['id'].count().reset_index()\n",
    "msg_counts.rename(columns={'id': 'message_count'}, inplace=True)\n",
    "\n",
    "# Converte 'year_month' para string para facilitar o gráfico\n",
    "msg_counts['year_month'] = msg_counts['year_month'].astype(str)\n",
    "\n",
    "# Gráfico\n",
    "import matplotlib.pyplot as plt\n",
    "import seaborn as sns\n",
    "\n",
    "plt.figure(figsize=(14, 6))\n",
    "sns.barplot(data=msg_counts, x='year_month', y='message_count', hue='plan_name')\n",
    "plt.title('Número de Mensagens por Plano e Mês')\n",
    "plt.xlabel('Ano/Mês')\n",
    "plt.ylabel('Quantidade de Mensagens')\n",
    "plt.xticks(rotation=45)\n",
    "plt.legend(title='Plano')\n",
    "plt.grid(True)\n",
    "plt.tight_layout()\n",
    "plt.show()\n",
    "\n",
    "# Compare o número de mensagens que os usuários de cada plano costumam enviar a cada mês\n",
    "\n"
   ]
  },
  {
   "cell_type": "code",
   "execution_count": 35,
   "metadata": {
    "id": "fIVdRuT6uj8v"
   },
   "outputs": [
    {
     "name": "stdout",
     "output_type": "stream",
     "text": [
      "Index(['id', 'user_id', 'session_date', 'session_mb', 'month', 'year_month',\n",
      "       'session_gb'],\n",
      "      dtype='object')\n"
     ]
    },
    {
     "data": {
      "image/png": "[encoded data removed]",
      "text/plain": [
       "<Figure size 1200x600 with 1 Axes>"
      ]
     },
     "metadata": {},
     "output_type": "display_data"
    }
   ],
   "source": [
    "print(internet.columns)\n",
    "\n",
    "# Garante que session_date está no formato datetime\n",
    "internet['session_date'] = pd.to_datetime(internet['session_date'])\n",
    "\n",
    "# Cria a coluna year_month com o período ano-mês\n",
    "internet['year_month'] = internet['session_date'].dt.to_period('M')\n",
    "\n",
    "# Junta os dados de usuários para obter o plano\n",
    "internet = internet.merge(users[['user_id', 'plan']], on='user_id', how='left')\n",
    "\n",
    "# Agrega o consumo total de MB por plano e por mês\n",
    "internet_usage = internet.groupby(['plan', 'year_month'])['session_mb'].sum().reset_index()\n",
    "\n",
    "# Converte year_month para string para melhor visualização no gráfico\n",
    "internet_usage['year_month'] = internet_usage['year_month'].astype(str)\n",
    "\n",
    "# Cria o gráfico de barras\n",
    "plt.figure(figsize=(12, 6))\n",
    "sns.barplot(data=internet_usage, x='year_month', y='session_mb', hue='plan')\n",
    "plt.title('Tráfego de Internet Mensal por Plano')\n",
    "plt.xlabel('Mês/Ano')\n",
    "plt.ylabel('MB Consumidos')\n",
    "plt.xticks(rotation=45)\n",
    "plt.tight_layout()\n",
    "plt.show()"
   ]
  },
  {
   "cell_type": "code",
   "execution_count": 36,
   "metadata": {},
   "outputs": [
    {
     "name": "stdout",
     "output_type": "stream",
     "text": [
      "   plan year_month  messages_count\n",
      "0  surf    2018-01       21.000000\n",
      "1  surf    2018-02       21.600000\n",
      "2  surf    2018-03       21.937500\n",
      "3  surf    2018-04       24.166667\n",
      "4  surf    2018-05       33.017857\n"
     ]
    }
   ],
   "source": [
    "# Cálculo da média de mensagens e internet por plano\n",
    "# Garantir que user_id seja string para o merge funcionar\n",
    "messages['user_id'] = messages['user_id'].astype(str)\n",
    "users['user_id'] = users['user_id'].astype(str)\n",
    "\n",
    "# Converter a data para datetime e extrair ano-mês\n",
    "messages['message_date'] = pd.to_datetime(messages['message_date'])\n",
    "messages['year_month'] = messages['message_date'].dt.to_period('M')\n",
    "\n",
    "# Fazer merge para trazer o plano dos usuários\n",
    "messages = messages.merge(users[['user_id', 'plan']], on='user_id', how='left')\n",
    "\n",
    "# Se tiver outras colunas antigas de plano, combine só se existirem\n",
    "plan_cols = [col for col in ['plan_name', 'plan_x', 'plan_y'] if col in messages.columns]\n",
    "if plan_cols:\n",
    "    messages['plan'] = messages[plan_cols].bfill(axis=1).iloc[:, 0]\n",
    "    messages = messages.drop(columns=plan_cols)\n",
    "\n",
    "# Contagem de mensagens por usuário, plano e mês\n",
    "msgs_per_user_month = messages.groupby(['user_id', 'plan', 'year_month']).size().reset_index(name='messages_count')\n",
    "\n",
    "# Calcular a média de mensagens por plano e mês\n",
    "messages_agg = msgs_per_user_month.groupby(['plan', 'year_month'])['messages_count'].mean().reset_index()\n",
    "\n",
    "print(messages_agg.head())\n"
   ]
  },
  {
   "cell_type": "markdown",
   "metadata": {
    "id": "v6QELMtcuj8v"
   },
   "source": [
    "[Formule conclusões sobre como os usuários costumam consumir o tráfego da internet. O comportamento é diferente dependendo do plano?]\n",
    "\n",
    "\n",
    "Usuários do plano Ultimate tendem a enviar mais mensagens, com menos variação e presença de alguns valores mais altos em comparação ao plano Surf.\n",
    "Usuários do plano Ultimate usam significativamente mais dados móveis, o que faz sentido, já que o plano oferece uma franquia maior.\n"
   ]
  },
  {
   "cell_type": "markdown",
   "metadata": {
    "id": "nHUCwAnauj8w"
   },
   "source": [
    "### Internet"
   ]
  },
  {
   "cell_type": "code",
   "execution_count": 37,
   "metadata": {
    "id": "EEm27RaRuj8w"
   },
   "outputs": [
    {
     "name": "stdout",
     "output_type": "stream",
     "text": [
      "       plan       mean        var\n",
      "0      surf  16.325881  59.288240\n",
      "1  ultimate  16.834612  58.483932\n"
     ]
    }
   ],
   "source": [
    "# Calcular o total de MB por usuário por mês\n",
    "monthly_internet = internet.groupby(['user_id', 'plan', 'year_month'])['session_mb'].sum().reset_index()\n",
    "\n",
    "# Calcular média e variância por plano\n",
    "internet_stats = monthly_internet.groupby('plan')['session_mb'].agg(['mean', 'var']).reset_index()\n",
    "\n",
    "monthly_internet = internet.groupby(['user_id', 'plan', 'year_month'])['session_gb'].sum().reset_index()\n",
    "internet_stats = monthly_internet.groupby('plan')['session_gb'].agg(['mean', 'var']).reset_index()\n",
    "\n",
    "print(internet_stats)"
   ]
  },
  {
   "cell_type": "code",
   "execution_count": 38,
   "metadata": {
    "id": "Detb0wIZuj8w"
   },
   "outputs": [
    {
     "data": {
      "image/png": "[encoded data removed]",
      "text/plain": [
       "<Figure size 1400x600 with 1 Axes>"
      ]
     },
     "metadata": {},
     "output_type": "display_data"
    }
   ],
   "source": [
    "# Agrupa por usuário e mês somando o uso em MB\n",
    "import matplotlib.pyplot as plt\n",
    "import seaborn as sns\n",
    "\n",
    "# Agrupa por usuário, plano e mês, somando o uso em MB\n",
    "monthly_internet = internet.groupby(['user_id', 'plan', 'year_month'])['session_mb'].sum().reset_index()\n",
    "\n",
    "# Configura o estilo do seaborn\n",
    "sns.set(style=\"whitegrid\")\n",
    "\n",
    "# Define uma paleta personalizada: azul e laranja\n",
    "custom_palette = ['#1f77b4', '#ff7f0e']  # azul e laranja\n",
    "\n",
    "# Cria o gráfico\n",
    "plt.figure(figsize=(14, 6))\n",
    "sns.boxplot(data=monthly_internet, x='year_month', y='session_mb', hue='plan', palette=custom_palette)\n",
    "\n",
    "# Títulos e rótulos\n",
    "plt.title('Distribuição do uso mensal de internet por plano')\n",
    "plt.xlabel('Ano-Mês')\n",
    "plt.ylabel('Uso de internet (MB/mês)')\n",
    "plt.xticks(rotation=45)\n",
    "plt.legend(title='Plano')\n",
    "plt.tight_layout()\n",
    "plt.show()"
   ]
  },
  {
   "cell_type": "markdown",
   "metadata": {},
   "source": [
    "<div class=\"alert alert-block alert-danger\">\n",
    "<b> Comentário do revisor: </b> <a class=\"tocSkip\"></a>\n",
    "    \n",
    "<s>Aqui você precisa analisar a distribuição por plano e ao longo dos meses também</s>\n",
    "</div>\n"
   ]
  },
  {
   "cell_type": "markdown",
   "metadata": {},
   "source": [
    "<div class=\"alert alert-block alert-danger\">\n",
    "<b> Comentário do revisor v2: </b> <a class=\"tocSkip\"></a>\n",
    "    \n",
    "<s>Aqui você precisa agrupar o gráfico acima por mês e plano. Veja o exemplo acima como referência.</s>\n",
    "</div>"
   ]
  },
  {
   "cell_type": "markdown",
   "metadata": {
    "id": "GsHkFpGmuj8w"
   },
   "source": [
    "Usuários Ultimate demosntram usar mais intert que o plano Surf.\n",
    "\n",
    "\n",
    "[Formule conclusões sobre como os usuários tendem a consumir o tráfego da internet. O comportamento é diferente dependendo do plano?]"
   ]
  },
  {
   "cell_type": "markdown",
   "metadata": {
    "id": "g23qXaYNuj8x"
   },
   "source": [
    "## Receita"
   ]
  },
  {
   "cell_type": "markdown",
   "metadata": {
    "id": "qI9oKXFZuj8y"
   },
   "source": [
    "[Da mesma forma que você estudou o comportamento dos usuários, descreva estatisticamente as receitas dos planos.]"
   ]
  },
  {
   "cell_type": "code",
   "execution_count": 41,
   "metadata": {
    "id": "qJSyfvUguj8y"
   },
   "outputs": [
    {
     "name": "stdout",
     "output_type": "stream",
     "text": [
      "NaNs em monthly_revenue: 0\n",
      "   user_id year_month      plan  monthly_revenue\n",
      "0     1000    2018-12  ultimate        70.000000\n",
      "1     1001    2018-08      surf        20.000000\n",
      "2     1001    2018-09      surf        20.000000\n",
      "3     1001    2018-10      surf        88.161191\n",
      "4     1001    2018-11      surf        50.706055\n"
     ]
    }
   ],
   "source": [
    "df_merged['monthly_revenue'] = df_merged.apply(calculate_rev, axis=1)\n",
    "# Agora confirme se há NaNs na receita\n",
    "print('NaNs em monthly_revenue:', df_merged['monthly_revenue'].isna().sum())\n",
    "\n",
    "# Exiba as primeiras linhas\n",
    "print(df_merged[['user_id', 'year_month', 'plan', 'monthly_revenue']].head())\n"
   ]
  },
  {
   "cell_type": "code",
   "execution_count": 42,
   "metadata": {
    "id": "KUSxMW71uj8z"
   },
   "outputs": [
    {
     "data": {
      "image/png": "[encoded data removed]",
      "text/plain": [
       "<Figure size 1600x700 with 1 Axes>"
      ]
     },
     "metadata": {},
     "output_type": "display_data"
    }
   ],
   "source": [
    "# Agrupar receita mensal por plano e mês\n",
    "monthly_revenue = df_merged.groupby(['plan', 'year_month'])['monthly_revenue'].apply(list).reset_index()\n",
    "\n",
    "# Expandir a lista para cada linha para usar no boxplot\n",
    "monthly_revenue = df_merged[['plan', 'year_month', 'monthly_revenue']].copy()\n",
    "\n",
    "# Converter year_month para string para o gráfico\n",
    "monthly_revenue['year_month_str'] = monthly_revenue['year_month'].astype(str)\n",
    "\n",
    "import matplotlib.pyplot as plt\n",
    "import seaborn as sns\n",
    "\n",
    "custom_palette = ['#1f77b4', '#ff7f0e']\n",
    "\n",
    "plt.figure(figsize=(16, 7))\n",
    "sns.boxplot(\n",
    "    data=monthly_revenue,\n",
    "    x='year_month_str',\n",
    "    y='monthly_revenue',\n",
    "    hue='plan',\n",
    "    palette=custom_palette\n",
    ")\n",
    "\n",
    "plt.title('Distribuição da Receita Mensal por Plano e Mês')\n",
    "plt.xlabel('Ano-Mês')\n",
    "plt.ylabel('Receita Mensal (USD)')\n",
    "plt.xticks(rotation=45)\n",
    "plt.legend(title='Plano')\n",
    "plt.tight_layout()\n",
    "plt.show()"
   ]
  },
  {
   "cell_type": "markdown",
   "metadata": {},
   "source": [
    "<div class=\"alert alert-block alert-danger\">\n",
    "<b> Comentário do revisor: </b> <a class=\"tocSkip\"></a>\n",
    "    \n",
    "<s>Aqui você precisa analisar a distribuição por plano e ao longo dos meses também</s>\n",
    "</div>\n"
   ]
  },
  {
   "cell_type": "markdown",
   "metadata": {},
   "source": [
    "<div class=\"alert alert-block alert-danger\">\n",
    "<b> Comentário do revisor v2: </b> <a class=\"tocSkip\"></a>\n",
    "    \n",
    "<s>Aqui você precisa agrupar o gráfico acima por mês e plano. Veja o exemplo acima como referência.</s>\n",
    "</div>"
   ]
  },
  {
   "cell_type": "markdown",
   "metadata": {
    "id": "6X34EwHpuj8z"
   },
   "source": [
    "\n",
    "\n",
    "O plano \"surf\" tem receita menor (exemplo de 20 USD), sugerindo que é uma opção mais básica ou com menor custo para o usuário.\n",
    "\n",
    "A distribuição da receita ao longo dos meses mostra que o plano ultimate mantém uma receita estável e maior em comparação aos outros planos.\n",
    "\n",
    "Esses dados indicam que o plano ultimate provavelmente inclui mais serviços ou tem preços maiores, contribuindo para uma receita maior da empresa.\n"
   ]
  },
  {
   "cell_type": "markdown",
   "metadata": {},
   "source": [
    "<div class=\"alert alert-block alert-danger\">\n",
    "<b> Comentário do revisor: </b> <a class=\"tocSkip\"></a>\n",
    "    \n",
    "<s>Aqui você precisa adicionar suas observações sobre a análise acima.</s>\n",
    "</div>\n"
   ]
  },
  {
   "cell_type": "markdown",
   "metadata": {
    "id": "xJ6Mu-KAuj8z"
   },
   "source": [
    "## Teste hipóteses estatísticas"
   ]
  },
  {
   "cell_type": "markdown",
   "metadata": {
    "id": "lop_0j4Duj8z"
   },
   "source": [
    "[Teste a hipótese de que a receita média dos usuários dos planos Ultimate e Surf são diferentes.]"
   ]
  },
  {
   "cell_type": "markdown",
   "metadata": {
    "id": "-X2l1R8Luj80"
   },
   "source": [
    "[Formule as hipóteses nula e alternativa, escolha o teste estatístico, escolha o valor alfa.]\n",
    "\n",
    "\n",
    "O plano Ultimate gera uma receita média maior (30) em comparação ao plano Surf (20). Isso indica que os usuários do plano Ultimate, em média, contribuem mais em termos de receita mensal."
   ]
  },
  {
   "cell_type": "code",
   "execution_count": 43,
   "metadata": {
    "id": "LyGrPhpUuj80"
   },
   "outputs": [
    {
     "data": {
      "image/png": "[encoded data removed]",
      "text/plain": [
       "<Figure size 1000x600 with 1 Axes>"
      ]
     },
     "metadata": {},
     "output_type": "display_data"
    }
   ],
   "source": [
    "df_billing = df_merged[['user_id', 'year_month', 'plan', 'monthly_revenue']].copy()\n",
    "df_billing.rename(columns={'monthly_revenue': 'revenue'}, inplace=True)\n",
    "import seaborn as sns\n",
    "import matplotlib.pyplot as plt\n",
    "\n",
    "plt.figure(figsize=(10, 6))\n",
    "sns.boxplot(data=df_billing, x='plan', y='revenue', palette=['#1f77b4', '#ff7f0e'])  # Azul e laranja\n",
    "plt.title(\"Distribuição da Receita por Plano\")\n",
    "plt.xlabel(\"Plano\")\n",
    "plt.ylabel(\"Receita (USD)\")\n",
    "plt.grid(True)\n",
    "plt.tight_layout()\n",
    "plt.show()\n",
    "\n",
    "# Teste as hipóteses\n"
   ]
  },
  {
   "cell_type": "markdown",
   "metadata": {
    "id": "Cz6rwE56uj80"
   },
   "source": [
    "[Teste a hipótese de que a receita média dos usuários da área de NY-NJ difere dos usuários das demais regiões.]"
   ]
  },
  {
   "cell_type": "markdown",
   "metadata": {
    "id": "kMHim5__uj80"
   },
   "source": [
    "[Formule as hipóteses nula e alternativa, escolha o teste estatístico, escolha o valor alfa.]"
   ]
  },
  {
   "cell_type": "code",
   "execution_count": 45,
   "metadata": {
    "id": "98t8iiJyuj80"
   },
   "outputs": [
    {
     "name": "stdout",
     "output_type": "stream",
     "text": [
      "Tamanho surf: 1573\n",
      "Tamanho ultimate: 720\n",
      "U-statistic: 323599.0\n",
      "P-value: 4.142147797368997e-63\n",
      "Rejeitamos a hipótese nula: as receitas médias são diferentes entre os planos.\n"
     ]
    }
   ],
   "source": [
    "# Teste as hipóteses\n",
    "from scipy.stats import mannwhitneyu\n",
    "\n",
    "# Substitui valores nulos por 0\n",
    "df_billing['revenue'] = df_billing['revenue'].fillna(0)\n",
    "\n",
    "# Seleciona receitas por plano\n",
    "surf_revenue = df_billing[df_billing['plan'] == 'surf']['revenue']\n",
    "ultimate_revenue = df_billing[df_billing['plan'] == 'ultimate']['revenue']\n",
    "\n",
    "# Exibe os tamanhos das amostras\n",
    "print(\"Tamanho surf:\", len(surf_revenue))\n",
    "print(\"Tamanho ultimate:\", len(ultimate_revenue))\n",
    "\n",
    "# Executa o teste de hipótese apenas se houver dados suficientes\n",
    "if len(surf_revenue) > 1 and len(ultimate_revenue) > 1:\n",
    "    stat, p_value = mannwhitneyu(surf_revenue, ultimate_revenue, alternative='two-sided')\n",
    "    print(f\"U-statistic: {stat}\")\n",
    "    print(f\"P-value: {p_value}\")\n",
    "\n",
    "    if p_value < 0.05:\n",
    "        print(\"Rejeitamos a hipótese nula: as receitas médias são diferentes entre os planos.\")\n",
    "    else:\n",
    "        print(\"Não rejeitamos a hipótese nula: as receitas médias podem ser iguais entre os planos.\")\n",
    "else:\n",
    "    print(\"Amostras muito pequenas para realizar o teste estatístico.\")"
   ]
  },
  {
   "cell_type": "markdown",
   "metadata": {},
   "source": [
    "<div class=\"alert alert-block alert-danger\">\n",
    "<b> Comentário do revisor: </b> <a class=\"tocSkip\"></a>\n",
    "    \n",
    "<s>Veja que o resultado do teste acima deu `nan`, o que não é esperado. Dica: verifique se há receitas com valores nulos no seu dataframe.</s>\n",
    "</div>\n"
   ]
  },
  {
   "cell_type": "markdown",
   "metadata": {
    "id": "M8WycwWFuj81"
   },
   "source": [
    "## Conclusão geral\n",
    "\n",
    "[Liste suas conclusões importantes nesta seção final, certifique-se de que elas cobrem todas as decisões (suposições) importantes que você tomou e que levaram à maneira como você processou e analisou os dados.]"
   ]
  },
  {
   "cell_type": "code",
   "execution_count": null,
   "metadata": {},
   "outputs": [],
   "source": [
    "from scipy.stats import ttest_ind\n",
    "\n",
    "def aplicar_tteste_grupos(grupo1, grupo2):\n",
    "    grupo1 = grupo1.fillna(0)\n",
    "    grupo2 = grupo2.fillna(0)\n",
    "\n",
    "    if len(grupo1) < 2 or len(grupo2) < 2:\n",
    "        return None, None, \"Grupos com menos de 2 valores.\"\n",
    "\n",
    "    if grupo1.var() == 0 or grupo2.var() == 0:\n",
    "        return None, None, \"Variância zero detectada. Não é possível aplicar o teste t.\"\n",
    "\n",
    "    t_stat, p_value = ttest_ind(grupo1, grupo2, equal_var=False)\n",
    "    return t_stat, p_value, \"Teste executado com sucesso.\"\n",
    "\n",
    "# Exemplo com os planos\n",
    "t_stat, p_value, msg = aplicar_tteste_grupos(ultimate_revenue, surf_revenue)\n",
    "print(f\"[Testes entre planos] {msg}\")\n",
    "if p_value is not None:\n",
    "    print(f\"T-statistic: {t_stat:.3f}, P-value: {p_value:.3f}\")"
   ]
  },
  {
   "cell_type": "code",
   "execution_count": null,
   "metadata": {},
   "outputs": [],
   "source": [
    "# Filtrar receitas dos planos e limpar NaNs\n",
    "surf_revenue = df_billing[df_billing['plan'] == 'surf']['revenue'].dropna()\n",
    "ultimate_revenue = df_billing[df_billing['plan'] == 'ultimate']['revenue'].dropna()\n",
    "\n",
    "print(\"Variância (Surf):\", surf_revenue.var())\n",
    "print(\"Variância (Ultimate):\", ultimate_revenue.var())\n",
    "print(\"Tamanho Surf:\", len(surf_revenue))\n",
    "print(\"Tamanho Ultimate:\", len(ultimate_revenue))\n",
    "print(\"Valores únicos Surf:\", surf_revenue.unique())\n",
    "print(\"Valores únicos Ultimate:\", ultimate_revenue.unique())"
   ]
  },
  {
   "cell_type": "markdown",
   "metadata": {},
   "source": [
    "<div class=\"alert alert-block alert-danger\">\n",
    "<b> Comentário do revisor: </b> <a class=\"tocSkip\"></a>\n",
    "    \n",
    "<s>Veja que o resultado do teste acima deu `nan`, o que não é esperado. Dica: verifique se há receitas com valores nulos no seu dataframe.</s>\n",
    "</div>\n"
   ]
  },
  {
   "cell_type": "markdown",
   "metadata": {},
   "source": [
    "O plano Surf apresentou maior variabilidade na receita mensal dos usuários (variância = 2900.94) em comparação ao plano Ultimate (variância = 115.97).\n",
    "Esse resultado reforça a hipótese de que os usuários do plano Surf tendem a ultrapassar as franquias com mais frequência, gerando receitas adicionais variáveis.\n",
    "Ótimo, Thata! Esse resultado indica uma diferença estatisticamente significativa entre as receitas dos planos Ultimate e Surf. "
   ]
  },
  {
   "cell_type": "markdown",
   "metadata": {},
   "source": [
    "<div class=\"alert alert-block alert-danger\">\n",
    "<b> Comentário do revisor v2: </b> <a class=\"tocSkip\"></a>\n",
    "    \n",
    "<s>Você precisa aplicar a função de cálculo de receita na etapa anterior. Veja a dica que deixei anteriormente. Além disso, você pode preencher os valores ausentes de receita com `0`.</s>\n",
    "</div>"
   ]
  }
 ],
 "metadata": {
  "ExecuteTimeLog": [
   {
    "duration": 828,
    "start_time": "2021-11-16T09:21:11.304Z"
   },
   {
    "duration": 893,
    "start_time": "2021-11-16T09:21:17.728Z"
   },
   {
    "duration": 1150,
    "start_time": "2021-11-16T09:21:29.568Z"
   },
   {
    "duration": 3,
    "start_time": "2021-11-16T09:24:14.495Z"
   },
   {
    "duration": 120,
    "start_time": "2021-11-16T09:24:46.630Z"
   },
   {
    "duration": 3,
    "start_time": "2021-11-16T09:28:27.882Z"
   },
   {
    "duration": 4,
    "start_time": "2021-11-16T09:29:54.281Z"
   },
   {
    "duration": 3,
    "start_time": "2021-11-16T09:30:45.936Z"
   },
   {
    "duration": 4,
    "start_time": "2021-11-16T09:31:06.300Z"
   },
   {
    "duration": 113,
    "start_time": "2021-11-16T09:31:37.208Z"
   },
   {
    "duration": 143,
    "start_time": "2021-11-16T09:31:48.656Z"
   },
   {
    "duration": 98,
    "start_time": "2021-11-16T09:31:55.678Z"
   },
   {
    "duration": 3,
    "start_time": "2021-11-16T09:32:08.535Z"
   },
   {
    "duration": 111,
    "start_time": "2021-11-16T09:32:10.120Z"
   },
   {
    "duration": 3,
    "start_time": "2021-11-16T09:32:15.732Z"
   },
   {
    "duration": 4,
    "start_time": "2021-11-16T09:32:29.423Z"
   },
   {
    "duration": 3,
    "start_time": "2021-11-16T10:03:03.074Z"
   },
   {
    "duration": 3,
    "start_time": "2021-11-16T10:10:01.288Z"
   },
   {
    "duration": 3,
    "start_time": "2021-11-16T10:10:46.923Z"
   },
   {
    "duration": 121,
    "start_time": "2021-11-16T10:37:46.494Z"
   },
   {
    "duration": 125,
    "start_time": "2021-11-16T10:38:20.632Z"
   },
   {
    "duration": 112,
    "start_time": "2021-11-16T10:46:53.001Z"
   },
   {
    "duration": 110,
    "start_time": "2021-11-16T10:48:25.775Z"
   },
   {
    "duration": 3,
    "start_time": "2021-11-16T10:50:18.720Z"
   },
   {
    "duration": 4,
    "start_time": "2021-11-16T10:50:37.649Z"
   },
   {
    "duration": 2,
    "start_time": "2021-11-16T10:50:51.884Z"
   },
   {
    "duration": 3,
    "start_time": "2021-11-16T10:51:56.237Z"
   },
   {
    "duration": 101,
    "start_time": "2021-11-16T10:53:13.791Z"
   },
   {
    "duration": 3,
    "start_time": "2021-11-16T10:55:59.186Z"
   },
   {
    "duration": 3,
    "start_time": "2021-11-16T10:56:10.751Z"
   },
   {
    "duration": 3,
    "start_time": "2021-11-16T10:56:49.038Z"
   },
   {
    "duration": 3,
    "start_time": "2021-11-16T10:56:49.174Z"
   },
   {
    "duration": 4,
    "start_time": "2021-11-16T10:56:49.414Z"
   },
   {
    "duration": 3,
    "start_time": "2021-11-16T10:56:49.680Z"
   },
   {
    "duration": 3,
    "start_time": "2021-11-16T10:56:50.370Z"
   },
   {
    "duration": 114,
    "start_time": "2021-11-16T10:59:34.518Z"
   },
   {
    "duration": 3,
    "start_time": "2021-11-16T11:01:41.201Z"
   },
   {
    "duration": 116,
    "start_time": "2021-11-16T11:01:48.754Z"
   },
   {
    "duration": 3,
    "start_time": "2021-11-16T11:02:16.685Z"
   },
   {
    "duration": 3,
    "start_time": "2021-11-16T11:02:19.479Z"
   },
   {
    "duration": 3,
    "start_time": "2021-11-16T11:02:47.067Z"
   },
   {
    "duration": 3,
    "start_time": "2021-11-16T11:02:49.353Z"
   },
   {
    "duration": 3,
    "start_time": "2021-11-16T11:03:07.835Z"
   },
   {
    "duration": 3,
    "start_time": "2021-11-16T11:03:07.953Z"
   },
   {
    "duration": 112,
    "start_time": "2021-11-16T11:07:52.072Z"
   },
   {
    "duration": 187,
    "start_time": "2021-11-16T11:09:23.468Z"
   },
   {
    "duration": 4,
    "start_time": "2021-11-16T11:10:01.455Z"
   },
   {
    "duration": 3,
    "start_time": "2021-11-16T11:10:05.069Z"
   },
   {
    "duration": 4,
    "start_time": "2021-11-16T11:10:13.376Z"
   },
   {
    "duration": 3,
    "start_time": "2021-11-16T11:10:14.434Z"
   },
   {
    "duration": 3,
    "start_time": "2021-11-16T11:10:22.853Z"
   },
   {
    "duration": 4,
    "start_time": "2021-11-16T11:27:29.279Z"
   },
   {
    "duration": 4,
    "start_time": "2021-11-16T11:29:08.919Z"
   },
   {
    "duration": 118,
    "start_time": "2021-11-16T11:29:46.703Z"
   },
   {
    "duration": 437,
    "start_time": "2021-11-16T11:36:02.181Z"
   },
   {
    "duration": 157,
    "start_time": "2021-11-16T11:36:14.388Z"
   },
   {
    "duration": 207,
    "start_time": "2021-11-16T11:47:15.898Z"
   },
   {
    "duration": 3,
    "start_time": "2021-11-16T11:53:52.092Z"
   },
   {
    "duration": 3,
    "start_time": "2021-11-16T11:53:52.236Z"
   },
   {
    "duration": 3,
    "start_time": "2021-11-16T11:59:12.005Z"
   },
   {
    "duration": 112,
    "start_time": "2021-11-16T12:00:33.446Z"
   },
   {
    "duration": 3,
    "start_time": "2021-11-16T12:02:14.453Z"
   },
   {
    "duration": 3,
    "start_time": "2021-11-16T12:02:39.512Z"
   },
   {
    "duration": 106,
    "start_time": "2021-11-16T12:03:03.460Z"
   },
   {
    "duration": 3,
    "start_time": "2021-11-17T20:37:21.139Z"
   },
   {
    "duration": 3,
    "start_time": "2021-11-17T20:37:22.229Z"
   },
   {
    "duration": 3,
    "start_time": "2021-11-17T20:38:38.806Z"
   },
   {
    "duration": 3,
    "start_time": "2021-11-17T20:38:41.958Z"
   },
   {
    "duration": 3,
    "start_time": "2021-11-17T20:43:46.551Z"
   },
   {
    "duration": 4,
    "start_time": "2021-11-17T20:58:21.835Z"
   },
   {
    "duration": 3,
    "start_time": "2021-11-17T20:59:21.872Z"
   },
   {
    "duration": 4,
    "start_time": "2021-11-17T20:59:45.352Z"
   },
   {
    "duration": 4,
    "start_time": "2021-11-17T20:59:49.646Z"
   },
   {
    "duration": 159,
    "start_time": "2021-11-17T21:02:26.949Z"
   },
   {
    "duration": 3,
    "start_time": "2021-11-17T21:03:53.461Z"
   },
   {
    "duration": 3,
    "start_time": "2021-11-17T21:03:53.694Z"
   },
   {
    "duration": 3,
    "start_time": "2021-11-17T21:05:28.145Z"
   },
   {
    "duration": 116,
    "start_time": "2021-11-17T21:05:57.787Z"
   },
   {
    "duration": 3,
    "start_time": "2021-11-17T21:06:37.993Z"
   },
   {
    "duration": 3,
    "start_time": "2021-11-17T21:06:38.261Z"
   },
   {
    "duration": 3,
    "start_time": "2021-11-17T21:11:54.358Z"
   },
   {
    "duration": 3,
    "start_time": "2021-11-17T21:12:43.846Z"
   },
   {
    "duration": 4,
    "start_time": "2021-11-17T21:13:08.773Z"
   },
   {
    "duration": 3,
    "start_time": "2021-11-17T21:14:44.441Z"
   },
   {
    "duration": 3,
    "start_time": "2021-11-17T21:15:42.059Z"
   },
   {
    "duration": 4,
    "start_time": "2021-11-17T21:15:51.995Z"
   },
   {
    "duration": 3,
    "start_time": "2021-11-17T21:15:53.923Z"
   },
   {
    "duration": 3,
    "start_time": "2021-11-17T21:15:55.282Z"
   },
   {
    "duration": 3,
    "start_time": "2021-11-17T21:16:28.492Z"
   },
   {
    "duration": 3,
    "start_time": "2021-11-17T21:16:32.603Z"
   },
   {
    "duration": 3,
    "start_time": "2021-11-17T21:17:06.941Z"
   },
   {
    "duration": 98,
    "start_time": "2021-11-17T21:18:05.733Z"
   },
   {
    "duration": 4,
    "start_time": "2021-11-17T21:21:35.255Z"
   },
   {
    "duration": 3,
    "start_time": "2021-11-17T21:21:37.804Z"
   },
   {
    "duration": 4,
    "start_time": "2021-11-17T21:23:06.071Z"
   },
   {
    "duration": 3,
    "start_time": "2021-11-17T21:23:24.799Z"
   },
   {
    "duration": 3,
    "start_time": "2021-11-17T21:23:32.591Z"
   },
   {
    "duration": 98,
    "start_time": "2021-11-17T21:28:31.559Z"
   },
   {
    "duration": 3,
    "start_time": "2021-11-17T21:28:45.448Z"
   },
   {
    "duration": 3,
    "start_time": "2021-11-17T21:29:17.303Z"
   },
   {
    "duration": 3,
    "start_time": "2021-11-17T21:29:29.617Z"
   },
   {
    "duration": 3,
    "start_time": "2021-11-17T21:29:32.681Z"
   },
   {
    "duration": 3,
    "start_time": "2021-11-17T21:36:11.474Z"
   },
   {
    "duration": 3,
    "start_time": "2021-11-17T21:36:14.791Z"
   },
   {
    "duration": 3,
    "start_time": "2021-11-17T21:36:53.943Z"
   },
   {
    "duration": 3,
    "start_time": "2021-11-17T21:36:56.165Z"
   },
   {
    "duration": 4,
    "start_time": "2021-11-17T21:37:16.590Z"
   },
   {
    "duration": 3,
    "start_time": "2021-11-17T21:37:22.702Z"
   },
   {
    "duration": 4,
    "start_time": "2021-11-17T21:38:03.479Z"
   },
   {
    "duration": 3,
    "start_time": "2021-11-17T21:38:08.601Z"
   },
   {
    "duration": 3,
    "start_time": "2021-11-17T21:38:12.928Z"
   },
   {
    "duration": 3,
    "start_time": "2021-11-17T21:38:48.896Z"
   },
   {
    "duration": 2,
    "start_time": "2021-11-17T21:38:49.171Z"
   },
   {
    "duration": 4,
    "start_time": "2021-11-17T21:39:57.889Z"
   },
   {
    "duration": 3,
    "start_time": "2021-11-17T21:39:58.057Z"
   },
   {
    "duration": 3,
    "start_time": "2021-11-17T21:41:20.108Z"
   },
   {
    "duration": 3,
    "start_time": "2021-11-17T21:41:20.629Z"
   },
   {
    "duration": 3,
    "start_time": "2021-11-17T21:42:49.136Z"
   },
   {
    "duration": 3,
    "start_time": "2021-11-17T21:43:15.137Z"
   },
   {
    "duration": 4,
    "start_time": "2021-11-17T21:43:16.766Z"
   },
   {
    "duration": 4,
    "start_time": "2021-11-17T21:43:31.711Z"
   },
   {
    "duration": 3,
    "start_time": "2021-11-17T21:43:36.312Z"
   },
   {
    "duration": 4,
    "start_time": "2021-11-17T21:45:08.825Z"
   },
   {
    "duration": 4,
    "start_time": "2021-11-17T21:45:10.119Z"
   },
   {
    "duration": 4,
    "start_time": "2021-11-17T21:45:13.748Z"
   },
   {
    "duration": 3,
    "start_time": "2021-11-17T21:45:22.219Z"
   },
   {
    "duration": 3,
    "start_time": "2021-11-17T21:45:33.412Z"
   },
   {
    "duration": 2,
    "start_time": "2021-11-17T21:46:01.885Z"
   },
   {
    "duration": 3,
    "start_time": "2021-11-17T21:46:03.628Z"
   },
   {
    "duration": 107,
    "start_time": "2021-11-17T21:47:32.512Z"
   },
   {
    "duration": 103,
    "start_time": "2021-11-17T21:50:36.243Z"
   },
   {
    "duration": 3,
    "start_time": "2021-11-18T06:28:31.440Z"
   },
   {
    "duration": 3,
    "start_time": "2021-11-18T06:29:00.168Z"
   },
   {
    "duration": 3,
    "start_time": "2021-11-18T06:31:27.008Z"
   },
   {
    "duration": 2,
    "start_time": "2021-11-18T06:35:34.288Z"
   },
   {
    "duration": 2,
    "start_time": "2021-11-18T06:38:04.527Z"
   },
   {
    "duration": 168,
    "start_time": "2025-05-10T08:25:59.021Z"
   },
   {
    "duration": 3,
    "start_time": "2025-05-10T08:26:14.895Z"
   },
   {
    "duration": 7,
    "start_time": "2025-05-10T08:28:25.810Z"
   },
   {
    "duration": 299,
    "start_time": "2025-05-10T08:28:38.216Z"
   },
   {
    "duration": 3,
    "start_time": "2025-05-10T08:28:39.536Z"
   },
   {
    "duration": 88,
    "start_time": "2025-05-10T08:29:12.033Z"
   },
   {
    "duration": 423,
    "start_time": "2025-05-10T08:33:05.546Z"
   },
   {
    "duration": 195,
    "start_time": "2025-05-10T08:33:19.642Z"
   },
   {
    "duration": 14,
    "start_time": "2025-05-10T08:39:40.778Z"
   },
   {
    "duration": 12,
    "start_time": "2025-05-10T08:39:52.481Z"
   },
   {
    "duration": 27,
    "start_time": "2025-05-10T08:43:31.898Z"
   },
   {
    "duration": 2,
    "start_time": "2025-05-10T08:44:16.847Z"
   },
   {
    "duration": 165,
    "start_time": "2025-05-10T08:44:18.250Z"
   },
   {
    "duration": 11,
    "start_time": "2025-05-10T08:44:21.454Z"
   },
   {
    "duration": 11,
    "start_time": "2025-05-10T08:44:48.467Z"
   },
   {
    "duration": 42,
    "start_time": "2025-05-10T08:44:50.203Z"
   },
   {
    "duration": 6,
    "start_time": "2025-05-10T08:49:34.477Z"
   },
   {
    "duration": 8,
    "start_time": "2025-05-10T08:49:38.176Z"
   },
   {
    "duration": 22,
    "start_time": "2025-05-10T08:56:24.541Z"
   },
   {
    "duration": 17,
    "start_time": "2025-05-10T08:56:47.117Z"
   },
   {
    "duration": 12,
    "start_time": "2025-05-10T08:56:50.662Z"
   },
   {
    "duration": 30,
    "start_time": "2025-05-10T09:08:10.944Z"
   },
   {
    "duration": 5,
    "start_time": "2025-05-10T09:22:26.964Z"
   },
   {
    "duration": 6,
    "start_time": "2025-05-10T09:22:28.930Z"
   },
   {
    "duration": 9,
    "start_time": "2025-05-10T09:22:30.044Z"
   },
   {
    "duration": 6,
    "start_time": "2025-05-10T09:28:03.119Z"
   },
   {
    "duration": 6,
    "start_time": "2025-05-10T09:30:38.696Z"
   },
   {
    "duration": 6,
    "start_time": "2025-05-10T09:30:43.310Z"
   },
   {
    "duration": 9,
    "start_time": "2025-05-10T09:30:44.059Z"
   },
   {
    "duration": 3,
    "start_time": "2025-05-10T09:33:32.357Z"
   },
   {
    "duration": 3,
    "start_time": "2025-05-10T09:35:04.102Z"
   },
   {
    "duration": 5,
    "start_time": "2025-05-10T09:35:33.299Z"
   },
   {
    "duration": 5,
    "start_time": "2025-05-10T09:35:41.122Z"
   },
   {
    "duration": 11,
    "start_time": "2025-05-10T09:36:11.204Z"
   },
   {
    "duration": 13,
    "start_time": "2025-05-10T09:36:17.137Z"
   },
   {
    "duration": 7,
    "start_time": "2025-05-10T09:37:55.586Z"
   },
   {
    "duration": 5,
    "start_time": "2025-05-10T09:38:04.935Z"
   },
   {
    "duration": 3,
    "start_time": "2025-05-10T09:40:01.136Z"
   },
   {
    "duration": 5,
    "start_time": "2025-05-10T09:40:02.520Z"
   },
   {
    "duration": 12,
    "start_time": "2025-05-10T09:40:03.184Z"
   },
   {
    "duration": 9,
    "start_time": "2025-05-10T09:43:37.266Z"
   },
   {
    "duration": 12,
    "start_time": "2025-05-10T09:48:03.017Z"
   },
   {
    "duration": 5,
    "start_time": "2025-05-10T09:49:22.906Z"
   },
   {
    "duration": 11,
    "start_time": "2025-05-10T09:49:25.516Z"
   },
   {
    "duration": 5,
    "start_time": "2025-05-10T09:49:48.567Z"
   },
   {
    "duration": 10,
    "start_time": "2025-05-10T09:50:12.343Z"
   },
   {
    "duration": 10,
    "start_time": "2025-05-10T09:54:26.048Z"
   },
   {
    "duration": 340,
    "start_time": "2025-05-11T10:04:30.504Z"
   },
   {
    "duration": 217,
    "start_time": "2025-05-11T10:04:31.621Z"
   },
   {
    "duration": 14,
    "start_time": "2025-05-11T10:04:33.737Z"
   },
   {
    "duration": 43,
    "start_time": "2025-05-11T10:04:34.384Z"
   },
   {
    "duration": 36,
    "start_time": "2025-05-11T10:04:36.653Z"
   },
   {
    "duration": 6,
    "start_time": "2025-05-11T10:04:39.170Z"
   },
   {
    "duration": 5,
    "start_time": "2025-05-11T10:04:40.604Z"
   },
   {
    "duration": 8,
    "start_time": "2025-05-11T10:04:41.171Z"
   },
   {
    "duration": 3,
    "start_time": "2025-05-11T10:04:46.438Z"
   },
   {
    "duration": 5,
    "start_time": "2025-05-11T10:04:47.990Z"
   },
   {
    "duration": 12,
    "start_time": "2025-05-11T10:04:49.451Z"
   },
   {
    "duration": 4,
    "start_time": "2025-05-11T10:04:52.238Z"
   },
   {
    "duration": 9,
    "start_time": "2025-05-11T10:04:54.210Z"
   },
   {
    "duration": 4,
    "start_time": "2025-05-11T10:04:57.052Z"
   },
   {
    "duration": 9,
    "start_time": "2025-05-11T10:04:58.222Z"
   },
   {
    "duration": 9,
    "start_time": "2025-05-11T10:05:04.272Z"
   },
   {
    "duration": 3,
    "start_time": "2025-05-11T10:05:05.882Z"
   },
   {
    "duration": 2,
    "start_time": "2025-05-11T10:05:07.209Z"
   },
   {
    "duration": 6,
    "start_time": "2025-05-11T10:06:13.521Z"
   },
   {
    "duration": 12,
    "start_time": "2025-05-11T10:06:36.273Z"
   },
   {
    "duration": 12,
    "start_time": "2025-05-11T10:10:37.332Z"
   },
   {
    "duration": 10,
    "start_time": "2025-05-11T10:10:48.930Z"
   },
   {
    "duration": 10,
    "start_time": "2025-05-11T10:33:52.837Z"
   },
   {
    "duration": 9,
    "start_time": "2025-05-11T10:33:57.837Z"
   },
   {
    "duration": 12,
    "start_time": "2025-05-11T10:34:15.186Z"
   },
   {
    "duration": 10,
    "start_time": "2025-05-11T10:35:59.948Z"
   },
   {
    "duration": 11,
    "start_time": "2025-05-11T10:36:39.419Z"
   },
   {
    "duration": 10,
    "start_time": "2025-05-11T10:40:51.153Z"
   },
   {
    "duration": 5,
    "start_time": "2025-05-11T10:48:36.735Z"
   },
   {
    "duration": 20,
    "start_time": "2025-05-11T10:59:27.025Z"
   },
   {
    "duration": 15,
    "start_time": "2025-05-11T11:00:57.791Z"
   },
   {
    "duration": 15,
    "start_time": "2025-05-11T11:01:44.422Z"
   },
   {
    "duration": 183,
    "start_time": "2025-05-11T11:02:44.208Z"
   },
   {
    "duration": 2,
    "start_time": "2025-05-11T11:03:43.618Z"
   },
   {
    "duration": 171,
    "start_time": "2025-05-11T11:03:44.893Z"
   },
   {
    "duration": 12,
    "start_time": "2025-05-11T11:03:46.572Z"
   },
   {
    "duration": 43,
    "start_time": "2025-05-11T11:03:47.056Z"
   },
   {
    "duration": 35,
    "start_time": "2025-05-11T11:03:48.667Z"
   },
   {
    "duration": 6,
    "start_time": "2025-05-11T11:03:50.073Z"
   },
   {
    "duration": 5,
    "start_time": "2025-05-11T11:03:50.973Z"
   },
   {
    "duration": 10,
    "start_time": "2025-05-11T11:03:51.455Z"
   },
   {
    "duration": 3,
    "start_time": "2025-05-11T11:03:54.541Z"
   },
   {
    "duration": 6,
    "start_time": "2025-05-11T11:03:55.535Z"
   },
   {
    "duration": 13,
    "start_time": "2025-05-11T11:03:56.026Z"
   },
   {
    "duration": 4,
    "start_time": "2025-05-11T11:03:57.989Z"
   },
   {
    "duration": 9,
    "start_time": "2025-05-11T11:03:59.726Z"
   },
   {
    "duration": 5,
    "start_time": "2025-05-11T11:04:01.008Z"
   },
   {
    "duration": 10,
    "start_time": "2025-05-11T11:04:01.705Z"
   },
   {
    "duration": 9,
    "start_time": "2025-05-11T11:04:05.106Z"
   },
   {
    "duration": 5,
    "start_time": "2025-05-11T11:04:05.906Z"
   },
   {
    "duration": 12,
    "start_time": "2025-05-11T11:04:06.339Z"
   },
   {
    "duration": 8,
    "start_time": "2025-05-11T11:04:08.174Z"
   },
   {
    "duration": 11,
    "start_time": "2025-05-11T11:04:09.558Z"
   },
   {
    "duration": 5,
    "start_time": "2025-05-11T11:04:10.939Z"
   },
   {
    "duration": 23,
    "start_time": "2025-05-11T11:04:12.072Z"
   },
   {
    "duration": 18,
    "start_time": "2025-05-11T11:04:12.592Z"
   },
   {
    "duration": 15,
    "start_time": "2025-05-11T11:04:13.190Z"
   },
   {
    "duration": 13,
    "start_time": "2025-05-11T11:04:13.868Z"
   },
   {
    "duration": 15,
    "start_time": "2025-05-11T11:04:15.288Z"
   },
   {
    "duration": 4,
    "start_time": "2025-05-11T11:06:31.557Z"
   },
   {
    "duration": 2,
    "start_time": "2025-05-11T11:06:38.273Z"
   },
   {
    "duration": 22,
    "start_time": "2025-05-11T11:07:19.184Z"
   },
   {
    "duration": 24,
    "start_time": "2025-05-11T11:07:49.316Z"
   },
   {
    "duration": 44,
    "start_time": "2025-05-11T11:08:30.953Z"
   },
   {
    "duration": 24,
    "start_time": "2025-05-11T11:08:31.941Z"
   },
   {
    "duration": 22,
    "start_time": "2025-05-11T11:08:32.604Z"
   },
   {
    "duration": 15,
    "start_time": "2025-05-11T11:08:48.149Z"
   },
   {
    "duration": 16,
    "start_time": "2025-05-11T11:09:15.137Z"
   },
   {
    "duration": 16,
    "start_time": "2025-05-11T11:09:41.573Z"
   }
  ],
  "colab": {
   "provenance": []
  },
  "kernelspec": {
   "display_name": "Python 3 (ipykernel)",
   "language": "python",
   "name": "python3"
  },
  "language_info": {
   "codemirror_mode": {
    "name": "ipython",
    "version": 3
   },
   "file_extension": ".py",
   "mimetype": "text/x-python",
   "name": "python",
   "nbconvert_exporter": "python",
   "pygments_lexer": "ipython3",
   "version": "3.9.23"
  },
  "toc": {
   "base_numbering": 1,
   "nav_menu": {},
   "number_sections": true,
   "sideBar": true,
   "skip_h1_title": false,
   "title_cell": "Table of Contents",
   "title_sidebar": "Contents",
   "toc_cell": false,
   "toc_position": {
    "height": "calc(100% - 180px)",
    "left": "10px",
    "top": "150px",
    "width": "301.594px"
   },
   "toc_section_display": true,
   "toc_window_display": true
  }
 },
 "nbformat": 4,
 "nbformat_minor": 4
}
